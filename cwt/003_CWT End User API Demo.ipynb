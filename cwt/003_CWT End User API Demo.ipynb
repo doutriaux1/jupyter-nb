{
 "cells": [
  {
   "cell_type": "markdown",
   "metadata": {},
   "source": [
    "# Using The API\n",
    "## Setup\n",
    "```\n",
    "conda create -n CWT-API -c conda-forge -c jasonb87 esgf-compute-api\n",
    "```\n",
    "\n",
    "For this demo we will also install uvcdat\n",
    "```\n",
    "source activate CWT-API \n",
    "conda install -c conda-forge -c uvcdat uvcdat\n",
    "```\n",
    "We are also using the server that we just just setup\n"
   ]
  },
  {
   "cell_type": "code",
   "execution_count": 1,
   "metadata": {
    "collapsed": true
   },
   "outputs": [],
   "source": [
    "# First we need to import a few things\n",
    "from esgf import WPS\n",
    "from esgf import Variable, NamedParameter"
   ]
  },
  {
   "cell_type": "code",
   "execution_count": 2,
   "metadata": {
    "collapsed": true
   },
   "outputs": [],
   "source": [
    "# Now let's connect to our server\n",
    "wps = WPS('http://0.0.0.0:8000/wps/',username=\"wps_test\",password=\"Abc123!!\")"
   ]
  },
  {
   "cell_type": "code",
   "execution_count": 3,
   "metadata": {
    "collapsed": false
   },
   "outputs": [
    {
     "name": "stdout",
     "output_type": "stream",
     "text": [
      "cdat.aggregate\n",
      "cdat.averager\n",
      "ophidia.averager\n",
      "ophidia.ensemble\n",
      "test.echo\n",
      "test.passthrough\n",
      "test.sleep\n"
     ]
    }
   ],
   "source": [
    "# Let's inspect which services are available on this server\n",
    "for proc in wps:\n",
    "    print proc.name"
   ]
  },
  {
   "cell_type": "code",
   "execution_count": 4,
   "metadata": {
    "collapsed": true
   },
   "outputs": [],
   "source": [
    "# let's use a variable in the file we are serving locally via the server\n",
    "T = Variable('/ServedData/famipc5_ne30_v0.3_00003.cam.h0.1979-01_regrid.nc', 'T')"
   ]
  },
  {
   "cell_type": "code",
   "execution_count": 5,
   "metadata": {
    "collapsed": true
   },
   "outputs": [],
   "source": [
    "# Now let's select the process we want to use\n",
    "process = wps.get_process('cdat.averager')"
   ]
  },
  {
   "cell_type": "code",
   "execution_count": 7,
   "metadata": {
    "collapsed": false
   },
   "outputs": [],
   "source": [
    "# Let's ask the server to average T over lat/lon\n",
    "#process.execute(inputs=[T], parameters=[NamedParameter('axes','longitude','latitude')])\n",
    "process.execute(inputs=[T], axes='longitude|latitude')"
   ]
  },
  {
   "cell_type": "code",
   "execution_count": 8,
   "metadata": {
    "collapsed": false
   },
   "outputs": [
    {
     "name": "stdout",
     "output_type": "stream",
     "text": [
      "ProcessSucceeded\n",
      "PyWPS Process cdat.averager successfully calculated\n"
     ]
    }
   ],
   "source": [
    "# Let's look at the result\n",
    "print process.status\n",
    "print process.message"
   ]
  },
  {
   "cell_type": "code",
   "execution_count": 9,
   "metadata": {
    "collapsed": false
   },
   "outputs": [
    {
     "name": "stdout",
     "output_type": "stream",
     "text": [
      "http://0.0.0.0:8080/thredds/dodsC/test/4973291c-4a1a-41bf-b0fb-37f6c7039970.nc\n",
      "T_avg_longitude_latitude\n"
     ]
    }
   ],
   "source": [
    "# Where is the result?\n",
    "print process.output.uri\n",
    "print process.output.var_name"
   ]
  },
  {
   "cell_type": "code",
   "execution_count": 10,
   "metadata": {
    "collapsed": false
   },
   "outputs": [],
   "source": [
    "# Ok we could use this further in wps or we can use it locally\n",
    "# let's load the file locally\n",
    "import cdms2\n",
    "f=cdms2.open(process.output.uri)"
   ]
  },
  {
   "cell_type": "code",
   "execution_count": 11,
   "metadata": {
    "collapsed": false
   },
   "outputs": [
    {
     "name": "stdout",
     "output_type": "stream",
     "text": [
      "(1, 30)\n"
     ]
    }
   ],
   "source": [
    "# Let's locate the variable\n",
    "T_avg = f[process.output.var_name]\n",
    "print T_avg.shape"
   ]
  },
  {
   "cell_type": "code",
   "execution_count": 12,
   "metadata": {
    "collapsed": false
   },
   "outputs": [
    {
     "data": {
      "image/png": "[encoded data removed]",
      "text/plain": [
       "<vcs.displayplot.Dp at 0x11c07eb40>"
      ]
     },
     "execution_count": 12,
     "metadata": {},
     "output_type": "execute_result"
    }
   ],
   "source": [
    "# And let's plot it for fun\n",
    "import vcs\n",
    "x=vcs.init()\n",
    "x.plot(T_avg[0],bg=True)"
   ]
  },
  {
   "cell_type": "code",
   "execution_count": null,
   "metadata": {
    "collapsed": true
   },
   "outputs": [],
   "source": []
  }
 ],
 "metadata": {
  "kernelspec": {
   "display_name": "Python 2",
   "language": "python",
   "name": "python2"
  },
  "language_info": {
   "codemirror_mode": {
    "name": "ipython",
    "version": 2
   },
   "file_extension": ".py",
   "mimetype": "text/x-python",
   "name": "python",
   "nbconvert_exporter": "python",
   "pygments_lexer": "ipython2",
   "version": "2.7.12"
  }
 },
 "nbformat": 4,
 "nbformat_minor": 1
}
