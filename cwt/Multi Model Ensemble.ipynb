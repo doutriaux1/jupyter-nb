{
 "cells": [
  {
   "cell_type": "code",
   "execution_count": 1,
   "metadata": {
    "collapsed": true
   },
   "outputs": [],
   "source": [
    "# First we need to import a few things\n",
    "from esgf import WPS\n",
    "from esgf import Variable, NamedParameter"
   ]
  },
  {
   "cell_type": "code",
   "execution_count": 2,
   "metadata": {
    "collapsed": true
   },
   "outputs": [],
   "source": [
    "# Now let's connect to our server\n",
    "wps = WPS('http://0.0.0.0:8000/wps/',username=\"wps_test\",password=\"Abc123!!\")"
   ]
  },
  {
   "cell_type": "code",
   "execution_count": null,
   "metadata": {
    "collapsed": false
   },
   "outputs": [],
   "source": [
    "# Here we could do a search using pyesgf (see jupyter notebook)\n",
    "# For this demo using a pre-searched list\n"
   ]
  },
  {
   "cell_type": "code",
   "execution_count": null,
   "metadata": {
    "collapsed": false
   },
   "outputs": [
    {
     "name": "stdout",
     "output_type": "stream",
     "text": [
      "http://esgf.nccs.nasa.gov/thredds/dodsC/CMIP5/NASA/GISS/historical/E2-H_historical_r1i1p2/tas_Amon_GISS-E2-H_historical_r1i1p2_195101-200 \b512.nc\n",
      "http://esgf.nccs.nasa.gov/thredds/dodsC/CMIP5/NASA/GISS/historical/E2-H_historical_r1i1p2/tas_Amon_GISS-E2-H_historical_r1i1p2_185001-195 \b012.nc\n",
      "http://esgf.nccs.nasa.gov/thredds/dodsC/CMIP5/NASA/GISS/historical/E2-H_historical_r1i1p1/tas_Amon_GISS-E2-H_historical_r1i1p1_195101-200 \b512.nc\n",
      "http://esgf.nccs.nasa.gov/thredds/dodsC/CMIP5/NASA/GISS/historical/E2-H_historical_r1i1p1/tas_Amon_GISS-E2-H_historical_r1i1p1_185001-190 \b012.nc\n",
      "http://esgf.nccs.nasa.gov/thredds/dodsC/CMIP5/NASA/GISS/historical/E2-H_historical_r1i1p1/tas_Amon_GISS-E2-H_historical_r1i1p1_190101-195 \b012.nc\n",
      "http://esgf.nccs.nasa.gov/thredds/dodsC/CMIP5/NASA/GISS/historical/E2-H_historical_r1i1p3/tas_Amon_GISS-E2-H_historical_r1i1p3_185001-190 \b012.nc\n",
      "http://esgf.nccs.nasa.gov/thredds/dodsC/CMIP5/NASA/GISS/historical/E2-H_historical_r1i1p3/tas_Amon_GISS-E2-H_historical_r1i1p3_195101-200 \b512.nc\n",
      "http://esgf.nccs.nasa.gov/thredds/dodsC/CMIP5/NASA/GISS/historical/E2-H_historical_r1i1p3/tas_Amon_GISS-E2-H_historical_r1i1p3_190101-195 \b012.nc\n",
      "http://esgf.nccs.nasa.gov/thredds/dodsC/CMIP5/NASA/GISS/historical/E2-H_historical_r2i1p2/tas_Amon_GISS-E2-H_historical_r2i1p2_195101-200 \b512.nc\n",
      "http://esgf.nccs.nasa.gov/thredds/dodsC/CMIP5/NASA/GISS/historical/E2-H_historical_r2i1p2/tas_Amon_GISS-E2-H_historical_r2i1p2_185001-195 \b012.nc\n",
      "http://esgf.nccs.nasa.gov/thredds/dodsC/CMIP5/NASA/GISS/historical/E2-H_historical_r2i1p1/tas_Amon_GISS-E2-H_historical_r2i1p1_195101-200 \b512.nc\n",
      "http://esgf.nccs.nasa.gov/thredds/dodsC/CMIP5/NASA/GISS/historical/E2-H_historical_r2i1p1/tas_Amon_GISS-E2-H_historical_r2i1p1_190101-195 \b012.nc\n",
      "http://esgf.nccs.nasa.gov/thredds/dodsC/CMIP5/NASA/GISS/historical/E2-H_historical_r2i1p1/tas_Amon_GISS-E2-H_historical_r2i1p1_185001-190 \b012.nc\n",
      "http://esgf.nccs.nasa.gov/thredds/dodsC/CMIP5/NASA/GISS/historical/E2-H_historical_r2i1p3/tas_Amon_GISS-E2-H_historical_r2i1p3_185001-190 \b012.nc\n",
      "http://esgf.nccs.nasa.gov/thredds/dodsC/CMIP5/NASA/GISS/historical/E2-H_historical_r2i1p3/tas_Amon_GISS-E2-H_historical_r2i1p3_190101-195 \b012.nc\n",
      "http://esgf.nccs.nasa.gov/thredds/dodsC/CMIP5/NASA/GISS/historical/E2-H_historical_r2i1p3/tas_Amon_GISS-E2-H_historical_r2i1p3_195101-200 \b512.nc\n",
      "http://esgf.nccs.nasa.gov/thredds/dodsC/CMIP5/NASA/GISS/historical/E2-H_historical_r3i1p2/tas_Amon_GISS-E2-H_historical_r3i1p2_195101-200 \b512.nc\n",
      "http://esgf.nccs.nasa.gov/thredds/dodsC/CMIP5/NASA/GISS/historical/E2-H_historical_r3i1p2/tas_Amon_GISS-E2-H_historical_r3i1p2_185001-195 \b012.nc\n",
      "http://esgf.nccs.nasa.gov/thredds/dodsC/CMIP5/NASA/GISS/historical/E2-H_historical_r3i1p1/tas_Amon_GISS-E2-H_historical_r3i1p1_195101-200 \b512.nc\n",
      "http://esgf.nccs.nasa.gov/thredds/dodsC/CMIP5/NASA/GISS/historical/E2-H_historical_r3i1p1/tas_Amon_GISS-E2-H_historical_r3i1p1_190101-195 \b012.nc\n",
      "http://esgf.nccs.nasa.gov/thredds/dodsC/CMIP5/NASA/GISS/historical/E2-H_historical_r3i1p1/tas_Amon_GISS-E2-H_historical_r3i1p1_185001-190 \b012.nc\n",
      "\u001b[K\u001b[?1l\u001b>"
     ]
    }
   ],
   "source": [
    "!more data_esgf.txt"
   ]
  },
  {
   "cell_type": "code",
   "execution_count": null,
   "metadata": {
    "collapsed": true
   },
   "outputs": [],
   "source": []
  }
 ],
 "metadata": {
  "kernelspec": {
   "display_name": "Python 2",
   "language": "python",
   "name": "python2"
  },
  "language_info": {
   "codemirror_mode": {
    "name": "ipython",
    "version": 2
   },
   "file_extension": ".py",
   "mimetype": "text/x-python",
   "name": "python",
   "nbconvert_exporter": "python",
   "pygments_lexer": "ipython2",
   "version": "2.7.12"
  }
 },
 "nbformat": 4,
 "nbformat_minor": 1
}
