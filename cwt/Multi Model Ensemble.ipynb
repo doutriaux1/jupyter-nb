{
 "cells": [
  {
   "cell_type": "code",
   "execution_count": 1,
   "metadata": {
    "collapsed": false
   },
   "outputs": [],
   "source": [
    "# First we need to import a few things\n",
    "from esgf import WPS\n",
    "from esgf import Variable, NamedParameter, Dimension, Domain, Operation, Gridder"
   ]
  },
  {
   "cell_type": "code",
   "execution_count": 2,
   "metadata": {
    "collapsed": true
   },
   "outputs": [],
   "source": [
    "# Now let's connect to our server\n",
    "wps = WPS('http://0.0.0.0:8000/wps/',username=\"wps_test\",password=\"Abc123!!\")"
   ]
  },
  {
   "cell_type": "code",
   "execution_count": 3,
   "metadata": {
    "collapsed": false
   },
   "outputs": [
    {
     "name": "stdout",
     "output_type": "stream",
     "text": [
      "cdat.aggregate\n",
      "cdat.averager\n",
      "cdat.ensemble\n",
      "ophidia.averager\n",
      "ophidia.ensemble\n",
      "test.echo\n",
      "test.passthrough\n",
      "test.sleep\n"
     ]
    }
   ],
   "source": [
    "# Let's inspect which services are available on this server\n",
    "for proc in wps:\n",
    "    print proc.name"
   ]
  },
  {
   "cell_type": "code",
   "execution_count": 4,
   "metadata": {
    "collapsed": false
   },
   "outputs": [],
   "source": [
    "# Here we could do a search using pyesgf (see jupyter notebook)\n",
    "# For this demo using a pre-searched list\n",
    "#cnrm_files = {'r7i1p1': [u'http://esg.cnrm-game-meteo.fr/thredds/dodsC/CMIP5_CNRM/output1/CNRM-CERFACS/CNRM-CM5/historical/mon/atmos/Amon/r7i1p1/v20110901/tas/tas_Amon_CNRM-CM5_historical_r7i1p1_185001-189912.nc', u'http://esg.cnrm-game-meteo.fr/thredds/dodsC/CMIP5_CNRM/output1/CNRM-CERFACS/CNRM-CM5/historical/mon/atmos/Amon/r7i1p1/v20110901/tas/tas_Amon_CNRM-CM5_historical_r7i1p1_195001-200512.nc', u'http://esg.cnrm-game-meteo.fr/thredds/dodsC/CMIP5_CNRM/output1/CNRM-CERFACS/CNRM-CM5/historical/mon/atmos/Amon/r7i1p1/v20110901/tas/tas_Amon_CNRM-CM5_historical_r7i1p1_190001-194912.nc'], 'r9i1p1': [u'http://esg.cnrm-game-meteo.fr/thredds/dodsC/CMIP5_CNRM/output1/CNRM-CERFACS/CNRM-CM5/historical/mon/atmos/Amon/r9i1p1/v20110901/tas/tas_Amon_CNRM-CM5_historical_r9i1p1_195001-200512.nc', u'http://esg.cnrm-game-meteo.fr/thredds/dodsC/CMIP5_CNRM/output1/CNRM-CERFACS/CNRM-CM5/historical/mon/atmos/Amon/r9i1p1/v20110901/tas/tas_Amon_CNRM-CM5_historical_r9i1p1_190001-194912.nc', u'http://esg.cnrm-game-meteo.fr/thredds/dodsC/CMIP5_CNRM/output1/CNRM-CERFACS/CNRM-CM5/historical/mon/atmos/Amon/r9i1p1/v20110901/tas/tas_Amon_CNRM-CM5_historical_r9i1p1_185001-189912.nc'], 'r2i1p1': [u'http://esg.cnrm-game-meteo.fr/thredds/dodsC/CMIP5_CNRM/output1/CNRM-CERFACS/CNRM-CM5/historical/mon/atmos/Amon/r2i1p1/v20110901/tas/tas_Amon_CNRM-CM5_historical_r2i1p1_185001-189912.nc', u'http://esg.cnrm-game-meteo.fr/thredds/dodsC/CMIP5_CNRM/output1/CNRM-CERFACS/CNRM-CM5/historical/mon/atmos/Amon/r2i1p1/v20110901/tas/tas_Amon_CNRM-CM5_historical_r2i1p1_195001-200512.nc', u'http://esg.cnrm-game-meteo.fr/thredds/dodsC/CMIP5_CNRM/output1/CNRM-CERFACS/CNRM-CM5/historical/mon/atmos/Amon/r2i1p1/v20110901/tas/tas_Amon_CNRM-CM5_historical_r2i1p1_190001-194912.nc'], 'r1i1p1': [u'http://esg.cnrm-game-meteo.fr/thredds/dodsC/CMIP5_CNRM/output1/CNRM-CERFACS/CNRM-CM5/historical/mon/atmos/Amon/r1i1p1/v20110901/tas/tas_Amon_CNRM-CM5_historical_r1i1p1_190001-194912.nc', u'http://esg.cnrm-game-meteo.fr/thredds/dodsC/CMIP5_CNRM/output1/CNRM-CERFACS/CNRM-CM5/historical/mon/atmos/Amon/r1i1p1/v20110901/tas/tas_Amon_CNRM-CM5_historical_r1i1p1_195001-200512.nc', u'http://esg.cnrm-game-meteo.fr/thredds/dodsC/CMIP5_CNRM/output1/CNRM-CERFACS/CNRM-CM5/historical/mon/atmos/Amon/r1i1p1/v20110901/tas/tas_Amon_CNRM-CM5_historical_r1i1p1_185001-189912.nc'], 'r10i1p1': [u'http://esg.cnrm-game-meteo.fr/thredds/dodsC/CMIP5_CNRM/output1/CNRM-CERFACS/CNRM-CM5/historical/mon/atmos/Amon/r10i1p1/v20110901/tas/tas_Amon_CNRM-CM5_historical_r10i1p1_195001-200512.nc', u'http://esg.cnrm-game-meteo.fr/thredds/dodsC/CMIP5_CNRM/output1/CNRM-CERFACS/CNRM-CM5/historical/mon/atmos/Amon/r10i1p1/v20110901/tas/tas_Amon_CNRM-CM5_historical_r10i1p1_190001-194912.nc', u'http://esg.cnrm-game-meteo.fr/thredds/dodsC/CMIP5_CNRM/output1/CNRM-CERFACS/CNRM-CM5/historical/mon/atmos/Amon/r10i1p1/v20110901/tas/tas_Amon_CNRM-CM5_historical_r10i1p1_185001-189912.nc'], 'r4i1p1': [u'http://esg.cnrm-game-meteo.fr/thredds/dodsC/CMIP5_CNRM/output1/CNRM-CERFACS/CNRM-CM5/historical/mon/atmos/Amon/r4i1p1/v20110901/tas/tas_Amon_CNRM-CM5_historical_r4i1p1_195001-200512.nc', u'http://esg.cnrm-game-meteo.fr/thredds/dodsC/CMIP5_CNRM/output1/CNRM-CERFACS/CNRM-CM5/historical/mon/atmos/Amon/r4i1p1/v20110901/tas/tas_Amon_CNRM-CM5_historical_r4i1p1_190001-194912.nc', u'http://esg.cnrm-game-meteo.fr/thredds/dodsC/CMIP5_CNRM/output1/CNRM-CERFACS/CNRM-CM5/historical/mon/atmos/Amon/r4i1p1/v20110901/tas/tas_Amon_CNRM-CM5_historical_r4i1p1_185001-189912.nc'], 'r3i1p1': [u'http://esg.cnrm-game-meteo.fr/thredds/dodsC/CMIP5_CNRM/output1/CNRM-CERFACS/CNRM-CM5/historical/mon/atmos/Amon/r3i1p1/v20110901/tas/tas_Amon_CNRM-CM5_historical_r3i1p1_190001-194912.nc', u'http://esg.cnrm-game-meteo.fr/thredds/dodsC/CMIP5_CNRM/output1/CNRM-CERFACS/CNRM-CM5/historical/mon/atmos/Amon/r3i1p1/v20110901/tas/tas_Amon_CNRM-CM5_historical_r3i1p1_195001-200512.nc', u'http://esg.cnrm-game-meteo.fr/thredds/dodsC/CMIP5_CNRM/output1/CNRM-CERFACS/CNRM-CM5/historical/mon/atmos/Amon/r3i1p1/v20110901/tas/tas_Amon_CNRM-CM5_historical_r3i1p1_185001-189912.nc'], 'r6i1p1': [u'http://esg.cnrm-game-meteo.fr/thredds/dodsC/CMIP5_CNRM/output1/CNRM-CERFACS/CNRM-CM5/historical/mon/atmos/Amon/r6i1p1/v20110901/tas/tas_Amon_CNRM-CM5_historical_r6i1p1_195001-200512.nc', u'http://esg.cnrm-game-meteo.fr/thredds/dodsC/CMIP5_CNRM/output1/CNRM-CERFACS/CNRM-CM5/historical/mon/atmos/Amon/r6i1p1/v20110901/tas/tas_Amon_CNRM-CM5_historical_r6i1p1_190001-194912.nc', u'http://esg.cnrm-game-meteo.fr/thredds/dodsC/CMIP5_CNRM/output1/CNRM-CERFACS/CNRM-CM5/historical/mon/atmos/Amon/r6i1p1/v20110901/tas/tas_Amon_CNRM-CM5_historical_r6i1p1_185001-189912.nc'], 'r5i1p1': [u'http://esg.cnrm-game-meteo.fr/thredds/dodsC/CMIP5_CNRM/output1/CNRM-CERFACS/CNRM-CM5/historical/mon/atmos/Amon/r5i1p1/v20110901/tas/tas_Amon_CNRM-CM5_historical_r5i1p1_195001-200512.nc', u'http://esg.cnrm-game-meteo.fr/thredds/dodsC/CMIP5_CNRM/output1/CNRM-CERFACS/CNRM-CM5/historical/mon/atmos/Amon/r5i1p1/v20110901/tas/tas_Amon_CNRM-CM5_historical_r5i1p1_190001-194912.nc', u'http://esg.cnrm-game-meteo.fr/thredds/dodsC/CMIP5_CNRM/output1/CNRM-CERFACS/CNRM-CM5/historical/mon/atmos/Amon/r5i1p1/v20110901/tas/tas_Amon_CNRM-CM5_historical_r5i1p1_185001-189912.nc'], 'r8i1p1': [u'http://esg.cnrm-game-meteo.fr/thredds/dodsC/CMIP5_CNRM/output1/CNRM-CERFACS/CNRM-CM5/historical/mon/atmos/Amon/r8i1p1/v20110901/tas/tas_Amon_CNRM-CM5_historical_r8i1p1_195001-200512.nc', u'http://esg.cnrm-game-meteo.fr/thredds/dodsC/CMIP5_CNRM/output1/CNRM-CERFACS/CNRM-CM5/historical/mon/atmos/Amon/r8i1p1/v20110901/tas/tas_Amon_CNRM-CM5_historical_r8i1p1_190001-194912.nc', u'http://esg.cnrm-game-meteo.fr/thredds/dodsC/CMIP5_CNRM/output1/CNRM-CERFACS/CNRM-CM5/historical/mon/atmos/Amon/r8i1p1/v20110901/tas/tas_Amon_CNRM-CM5_historical_r8i1p1_185001-189912.nc']}\n",
    "\n",
    "giss_files = {'r2i1p1': [u'http://esgf.nccs.nasa.gov/thredds/dodsC/CMIP5/NASA/GISS/historical/E2-H_historical_r2i1p1/tas_Amon_GISS-E2-H_historical_r2i1p1_195101-200512.nc', u'http://esgf.nccs.nasa.gov/thredds/dodsC/CMIP5/NASA/GISS/historical/E2-H_historical_r2i1p1/tas_Amon_GISS-E2-H_historical_r2i1p1_190101-195012.nc', u'http://esgf.nccs.nasa.gov/thredds/dodsC/CMIP5/NASA/GISS/historical/E2-H_historical_r2i1p1/tas_Amon_GISS-E2-H_historical_r2i1p1_185001-190012.nc'], 'r1i1p1': [u'http://esgf.nccs.nasa.gov/thredds/dodsC/CMIP5/NASA/GISS/historical/E2-H_historical_r1i1p1/tas_Amon_GISS-E2-H_historical_r1i1p1_195101-200512.nc', u'http://esgf.nccs.nasa.gov/thredds/dodsC/CMIP5/NASA/GISS/historical/E2-H_historical_r1i1p1/tas_Amon_GISS-E2-H_historical_r1i1p1_185001-190012.nc', u'http://esgf.nccs.nasa.gov/thredds/dodsC/CMIP5/NASA/GISS/historical/E2-H_historical_r1i1p1/tas_Amon_GISS-E2-H_historical_r1i1p1_190101-195012.nc'], 'r4i1p1': [u'http://esgf.nccs.nasa.gov/thredds/dodsC/CMIP5/NASA/GISS/historical/E2-H_historical_r4i1p1/tas_Amon_GISS-E2-H_historical_r4i1p1_195101-200512.nc', u'http://esgf.nccs.nasa.gov/thredds/dodsC/CMIP5/NASA/GISS/historical/E2-H_historical_r4i1p1/tas_Amon_GISS-E2-H_historical_r4i1p1_190101-195012.nc', u'http://esgf.nccs.nasa.gov/thredds/dodsC/CMIP5/NASA/GISS/historical/E2-H_historical_r4i1p1/tas_Amon_GISS-E2-H_historical_r4i1p1_185001-190012.nc'], 'r3i1p1': [u'http://esgf.nccs.nasa.gov/thredds/dodsC/CMIP5/NASA/GISS/historical/E2-H_historical_r3i1p1/tas_Amon_GISS-E2-H_historical_r3i1p1_195101-200512.nc', u'http://esgf.nccs.nasa.gov/thredds/dodsC/CMIP5/NASA/GISS/historical/E2-H_historical_r3i1p1/tas_Amon_GISS-E2-H_historical_r3i1p1_190101-195012.nc', u'http://esgf.nccs.nasa.gov/thredds/dodsC/CMIP5/NASA/GISS/historical/E2-H_historical_r3i1p1/tas_Amon_GISS-E2-H_historical_r3i1p1_185001-190012.nc'], 'r6i1p1': [u'http://esgf.nccs.nasa.gov/thredds/dodsC/CMIP5/NASA/GISS/historical/E2-H_historical_r6i1p1/tas_Amon_GISS-E2-H_historical_r6i1p1_195101-200012.nc', u'http://esgf.nccs.nasa.gov/thredds/dodsC/CMIP5/NASA/GISS/historical/E2-H_historical_r6i1p1/tas_Amon_GISS-E2-H_historical_r6i1p1_190101-195012.nc', u'http://esgf.nccs.nasa.gov/thredds/dodsC/CMIP5/NASA/GISS/historical/E2-H_historical_r6i1p1/tas_Amon_GISS-E2-H_historical_r6i1p1_185001-190012.nc', u'http://esgf.nccs.nasa.gov/thredds/dodsC/CMIP5/NASA/GISS/historical/E2-H_historical_r6i1p1/tas_Amon_GISS-E2-H_historical_r6i1p1_200101-200512.nc'], 'r5i1p1': [u'http://esgf.nccs.nasa.gov/thredds/dodsC/CMIP5/NASA/GISS/historical/E2-H_historical_r5i1p1/tas_Amon_GISS-E2-H_historical_r5i1p1_195101-200512.nc', u'http://esgf.nccs.nasa.gov/thredds/dodsC/CMIP5/NASA/GISS/historical/E2-H_historical_r5i1p1/tas_Amon_GISS-E2-H_historical_r5i1p1_185001-190012.nc', u'http://esgf.nccs.nasa.gov/thredds/dodsC/CMIP5/NASA/GISS/historical/E2-H_historical_r5i1p1/tas_Amon_GISS-E2-H_historical_r5i1p1_190101-195012.nc']}\n",
    "\n",
    "#hadcm3_files = {'r7i1p1': [u'http://esgf-data1.ceda.ac.uk/thredds/dodsC/esg_dataroot/cmip5/output1/MOHC/HadCM3/historical/mon/atmos/Amon/r7i1p1/v20110728/tas/tas_Amon_HadCM3_historical_r7i1p1_198412-200512.nc', u'http://esgf-data1.ceda.ac.uk/thredds/dodsC/esg_dataroot/cmip5/output1/MOHC/HadCM3/historical/mon/atmos/Amon/r7i1p1/v20110728/tas/tas_Amon_HadCM3_historical_r7i1p1_195912-198411.nc', u'http://esgf-data1.ceda.ac.uk/thredds/dodsC/esg_dataroot/cmip5/output1/MOHC/HadCM3/historical/mon/atmos/Amon/r7i1p1/v20110728/tas/tas_Amon_HadCM3_historical_r7i1p1_193412-195911.nc', u'http://esgf-data1.ceda.ac.uk/thredds/dodsC/esg_dataroot/cmip5/output1/MOHC/HadCM3/historical/mon/atmos/Amon/r7i1p1/v20110728/tas/tas_Amon_HadCM3_historical_r7i1p1_188412-190911.nc', u'http://esgf-data1.ceda.ac.uk/thredds/dodsC/esg_dataroot/cmip5/output1/MOHC/HadCM3/historical/mon/atmos/Amon/r7i1p1/v20110728/tas/tas_Amon_HadCM3_historical_r7i1p1_190912-193411.nc', u'http://esgf-data1.ceda.ac.uk/thredds/dodsC/esg_dataroot/cmip5/output1/MOHC/HadCM3/historical/mon/atmos/Amon/r7i1p1/v20110728/tas/tas_Amon_HadCM3_historical_r7i1p1_185912-188411.nc'], 'r9i1p1': [u'http://esgf-data1.ceda.ac.uk/thredds/dodsC/esg_dataroot/cmip5/output1/MOHC/HadCM3/historical/mon/atmos/Amon/r9i1p1/v20110728/tas/tas_Amon_HadCM3_historical_r9i1p1_198412-200512.nc', u'http://esgf-data1.ceda.ac.uk/thredds/dodsC/esg_dataroot/cmip5/output1/MOHC/HadCM3/historical/mon/atmos/Amon/r9i1p1/v20110728/tas/tas_Amon_HadCM3_historical_r9i1p1_195912-198411.nc', u'http://esgf-data1.ceda.ac.uk/thredds/dodsC/esg_dataroot/cmip5/output1/MOHC/HadCM3/historical/mon/atmos/Amon/r9i1p1/v20110728/tas/tas_Amon_HadCM3_historical_r9i1p1_188412-190911.nc', u'http://esgf-data1.ceda.ac.uk/thredds/dodsC/esg_dataroot/cmip5/output1/MOHC/HadCM3/historical/mon/atmos/Amon/r9i1p1/v20110728/tas/tas_Amon_HadCM3_historical_r9i1p1_185912-188411.nc', u'http://esgf-data1.ceda.ac.uk/thredds/dodsC/esg_dataroot/cmip5/output1/MOHC/HadCM3/historical/mon/atmos/Amon/r9i1p1/v20110728/tas/tas_Amon_HadCM3_historical_r9i1p1_193412-195911.nc', u'http://esgf-data1.ceda.ac.uk/thredds/dodsC/esg_dataroot/cmip5/output1/MOHC/HadCM3/historical/mon/atmos/Amon/r9i1p1/v20110728/tas/tas_Amon_HadCM3_historical_r9i1p1_190912-193411.nc'], 'r2i1p1': [u'http://esgf-data1.ceda.ac.uk/thredds/dodsC/esg_dataroot/cmip5/output1/MOHC/HadCM3/historical/mon/atmos/Amon/r2i1p1/v20110728/tas/tas_Amon_HadCM3_historical_r2i1p1_198412-200512.nc', u'http://esgf-data1.ceda.ac.uk/thredds/dodsC/esg_dataroot/cmip5/output1/MOHC/HadCM3/historical/mon/atmos/Amon/r2i1p1/v20110728/tas/tas_Amon_HadCM3_historical_r2i1p1_195912-198411.nc', u'http://esgf-data1.ceda.ac.uk/thredds/dodsC/esg_dataroot/cmip5/output1/MOHC/HadCM3/historical/mon/atmos/Amon/r2i1p1/v20110728/tas/tas_Amon_HadCM3_historical_r2i1p1_193412-195911.nc', u'http://esgf-data1.ceda.ac.uk/thredds/dodsC/esg_dataroot/cmip5/output1/MOHC/HadCM3/historical/mon/atmos/Amon/r2i1p1/v20110728/tas/tas_Amon_HadCM3_historical_r2i1p1_185912-188411.nc', u'http://esgf-data1.ceda.ac.uk/thredds/dodsC/esg_dataroot/cmip5/output1/MOHC/HadCM3/historical/mon/atmos/Amon/r2i1p1/v20110728/tas/tas_Amon_HadCM3_historical_r2i1p1_188412-190911.nc', u'http://esgf-data1.ceda.ac.uk/thredds/dodsC/esg_dataroot/cmip5/output1/MOHC/HadCM3/historical/mon/atmos/Amon/r2i1p1/v20110728/tas/tas_Amon_HadCM3_historical_r2i1p1_190912-193411.nc'], 'r1i1p1': [u'http://esgf-data1.ceda.ac.uk/thredds/dodsC/esg_dataroot/cmip5/output1/MOHC/HadCM3/historical/mon/atmos/Amon/r1i1p1/v20110728/tas/tas_Amon_HadCM3_historical_r1i1p1_188412-190911.nc', u'http://esgf-data1.ceda.ac.uk/thredds/dodsC/esg_dataroot/cmip5/output1/MOHC/HadCM3/historical/mon/atmos/Amon/r1i1p1/v20110728/tas/tas_Amon_HadCM3_historical_r1i1p1_185912-188411.nc', u'http://esgf-data1.ceda.ac.uk/thredds/dodsC/esg_dataroot/cmip5/output1/MOHC/HadCM3/historical/mon/atmos/Amon/r1i1p1/v20110728/tas/tas_Amon_HadCM3_historical_r1i1p1_198412-200512.nc', u'http://esgf-data1.ceda.ac.uk/thredds/dodsC/esg_dataroot/cmip5/output1/MOHC/HadCM3/historical/mon/atmos/Amon/r1i1p1/v20110728/tas/tas_Amon_HadCM3_historical_r1i1p1_195912-198411.nc', u'http://esgf-data1.ceda.ac.uk/thredds/dodsC/esg_dataroot/cmip5/output1/MOHC/HadCM3/historical/mon/atmos/Amon/r1i1p1/v20110728/tas/tas_Amon_HadCM3_historical_r1i1p1_193412-195911.nc', u'http://esgf-data1.ceda.ac.uk/thredds/dodsC/esg_dataroot/cmip5/output1/MOHC/HadCM3/historical/mon/atmos/Amon/r1i1p1/v20110728/tas/tas_Amon_HadCM3_historical_r1i1p1_190912-193411.nc', u'http://esgf-data1.ceda.ac.uk/thredds/dodsC/esg_dataroot/cmip5/output1/MOHC/HadCM3/historical/mon/atmos/Amon/r1i1p1/v20110823/tas/tas_Amon_HadCM3_historical_r1i1p1_185912-188411.nc', u'http://esgf-data1.ceda.ac.uk/thredds/dodsC/esg_dataroot/cmip5/output1/MOHC/HadCM3/historical/mon/atmos/Amon/r1i1p1/v20110823/tas/tas_Amon_HadCM3_historical_r1i1p1_190912-193411.nc', u'http://esgf-data1.ceda.ac.uk/thredds/dodsC/esg_dataroot/cmip5/output1/MOHC/HadCM3/historical/mon/atmos/Amon/r1i1p1/v20110823/tas/tas_Amon_HadCM3_historical_r1i1p1_188412-190911.nc', u'http://esgf-data1.ceda.ac.uk/thredds/dodsC/esg_dataroot/cmip5/output1/MOHC/HadCM3/historical/mon/atmos/Amon/r1i1p1/v20110823/tas/tas_Amon_HadCM3_historical_r1i1p1_193412-195911.nc', u'http://esgf-data1.ceda.ac.uk/thredds/dodsC/esg_dataroot/cmip5/output1/MOHC/HadCM3/historical/mon/atmos/Amon/r1i1p1/v20110823/tas/tas_Amon_HadCM3_historical_r1i1p1_198412-200512.nc', u'http://esgf-data1.ceda.ac.uk/thredds/dodsC/esg_dataroot/cmip5/output1/MOHC/HadCM3/historical/mon/atmos/Amon/r1i1p1/v20110823/tas/tas_Amon_HadCM3_historical_r1i1p1_195912-198411.nc'], 'r10i1p1': [u'http://esgf-data1.ceda.ac.uk/thredds/dodsC/esg_dataroot/cmip5/output1/MOHC/HadCM3/historical/mon/atmos/Amon/r10i1p1/v20110728/tas/tas_Amon_HadCM3_historical_r10i1p1_188412-190911.nc', u'http://esgf-data1.ceda.ac.uk/thredds/dodsC/esg_dataroot/cmip5/output1/MOHC/HadCM3/historical/mon/atmos/Amon/r10i1p1/v20110728/tas/tas_Amon_HadCM3_historical_r10i1p1_190912-193411.nc', u'http://esgf-data1.ceda.ac.uk/thredds/dodsC/esg_dataroot/cmip5/output1/MOHC/HadCM3/historical/mon/atmos/Amon/r10i1p1/v20110728/tas/tas_Amon_HadCM3_historical_r10i1p1_185912-188411.nc', u'http://esgf-data1.ceda.ac.uk/thredds/dodsC/esg_dataroot/cmip5/output1/MOHC/HadCM3/historical/mon/atmos/Amon/r10i1p1/v20110728/tas/tas_Amon_HadCM3_historical_r10i1p1_193412-195911.nc', u'http://esgf-data1.ceda.ac.uk/thredds/dodsC/esg_dataroot/cmip5/output1/MOHC/HadCM3/historical/mon/atmos/Amon/r10i1p1/v20110728/tas/tas_Amon_HadCM3_historical_r10i1p1_198412-200512.nc', u'http://esgf-data1.ceda.ac.uk/thredds/dodsC/esg_dataroot/cmip5/output1/MOHC/HadCM3/historical/mon/atmos/Amon/r10i1p1/v20110728/tas/tas_Amon_HadCM3_historical_r10i1p1_195912-198411.nc'], 'r4i1p1': [u'http://esgf-data1.ceda.ac.uk/thredds/dodsC/esg_dataroot/cmip5/output1/MOHC/HadCM3/historical/mon/atmos/Amon/r4i1p1/v20110728/tas/tas_Amon_HadCM3_historical_r4i1p1_190912-193411.nc', u'http://esgf-data1.ceda.ac.uk/thredds/dodsC/esg_dataroot/cmip5/output1/MOHC/HadCM3/historical/mon/atmos/Amon/r4i1p1/v20110728/tas/tas_Amon_HadCM3_historical_r4i1p1_188412-190911.nc', u'http://esgf-data1.ceda.ac.uk/thredds/dodsC/esg_dataroot/cmip5/output1/MOHC/HadCM3/historical/mon/atmos/Amon/r4i1p1/v20110728/tas/tas_Amon_HadCM3_historical_r4i1p1_185912-188411.nc', u'http://esgf-data1.ceda.ac.uk/thredds/dodsC/esg_dataroot/cmip5/output1/MOHC/HadCM3/historical/mon/atmos/Amon/r4i1p1/v20110728/tas/tas_Amon_HadCM3_historical_r4i1p1_198412-200512.nc', u'http://esgf-data1.ceda.ac.uk/thredds/dodsC/esg_dataroot/cmip5/output1/MOHC/HadCM3/historical/mon/atmos/Amon/r4i1p1/v20110728/tas/tas_Amon_HadCM3_historical_r4i1p1_195912-198411.nc', u'http://esgf-data1.ceda.ac.uk/thredds/dodsC/esg_dataroot/cmip5/output1/MOHC/HadCM3/historical/mon/atmos/Amon/r4i1p1/v20110728/tas/tas_Amon_HadCM3_historical_r4i1p1_193412-195911.nc'], 'r3i1p1': [u'http://esgf-data1.ceda.ac.uk/thredds/dodsC/esg_dataroot/cmip5/output1/MOHC/HadCM3/historical/mon/atmos/Amon/r3i1p1/v20110905/tas/tas_Amon_HadCM3_historical_r3i1p1_198412-200512.nc', u'http://esgf-data1.ceda.ac.uk/thredds/dodsC/esg_dataroot/cmip5/output1/MOHC/HadCM3/historical/mon/atmos/Amon/r3i1p1/v20110905/tas/tas_Amon_HadCM3_historical_r3i1p1_190912-193411.nc', u'http://esgf-data1.ceda.ac.uk/thredds/dodsC/esg_dataroot/cmip5/output1/MOHC/HadCM3/historical/mon/atmos/Amon/r3i1p1/v20110905/tas/tas_Amon_HadCM3_historical_r3i1p1_195912-198411.nc', u'http://esgf-data1.ceda.ac.uk/thredds/dodsC/esg_dataroot/cmip5/output1/MOHC/HadCM3/historical/mon/atmos/Amon/r3i1p1/v20110905/tas/tas_Amon_HadCM3_historical_r3i1p1_193412-195911.nc', u'http://esgf-data1.ceda.ac.uk/thredds/dodsC/esg_dataroot/cmip5/output1/MOHC/HadCM3/historical/mon/atmos/Amon/r3i1p1/v20110905/tas/tas_Amon_HadCM3_historical_r3i1p1_188412-190911.nc', u'http://esgf-data1.ceda.ac.uk/thredds/dodsC/esg_dataroot/cmip5/output1/MOHC/HadCM3/historical/mon/atmos/Amon/r3i1p1/v20110905/tas/tas_Amon_HadCM3_historical_r3i1p1_185912-188411.nc'], 'r6i1p1': [u'http://esgf-data1.ceda.ac.uk/thredds/dodsC/esg_dataroot/cmip5/output1/MOHC/HadCM3/historical/mon/atmos/Amon/r6i1p1/v20110728/tas/tas_Amon_HadCM3_historical_r6i1p1_190912-193411.nc', u'http://esgf-data1.ceda.ac.uk/thredds/dodsC/esg_dataroot/cmip5/output1/MOHC/HadCM3/historical/mon/atmos/Amon/r6i1p1/v20110728/tas/tas_Amon_HadCM3_historical_r6i1p1_198412-200512.nc', u'http://esgf-data1.ceda.ac.uk/thredds/dodsC/esg_dataroot/cmip5/output1/MOHC/HadCM3/historical/mon/atmos/Amon/r6i1p1/v20110728/tas/tas_Amon_HadCM3_historical_r6i1p1_195912-198411.nc', u'http://esgf-data1.ceda.ac.uk/thredds/dodsC/esg_dataroot/cmip5/output1/MOHC/HadCM3/historical/mon/atmos/Amon/r6i1p1/v20110728/tas/tas_Amon_HadCM3_historical_r6i1p1_193412-195911.nc', u'http://esgf-data1.ceda.ac.uk/thredds/dodsC/esg_dataroot/cmip5/output1/MOHC/HadCM3/historical/mon/atmos/Amon/r6i1p1/v20110728/tas/tas_Amon_HadCM3_historical_r6i1p1_185912-188411.nc', u'http://esgf-data1.ceda.ac.uk/thredds/dodsC/esg_dataroot/cmip5/output1/MOHC/HadCM3/historical/mon/atmos/Amon/r6i1p1/v20110728/tas/tas_Amon_HadCM3_historical_r6i1p1_188412-190911.nc'], 'r5i1p1': [u'http://esgf-data1.ceda.ac.uk/thredds/dodsC/esg_dataroot/cmip5/output1/MOHC/HadCM3/historical/mon/atmos/Amon/r5i1p1/v20110905/tas/tas_Amon_HadCM3_historical_r5i1p1_185912-188411.nc', u'http://esgf-data1.ceda.ac.uk/thredds/dodsC/esg_dataroot/cmip5/output1/MOHC/HadCM3/historical/mon/atmos/Amon/r5i1p1/v20110905/tas/tas_Amon_HadCM3_historical_r5i1p1_195912-198411.nc', u'http://esgf-data1.ceda.ac.uk/thredds/dodsC/esg_dataroot/cmip5/output1/MOHC/HadCM3/historical/mon/atmos/Amon/r5i1p1/v20110905/tas/tas_Amon_HadCM3_historical_r5i1p1_193412-195911.nc', u'http://esgf-data1.ceda.ac.uk/thredds/dodsC/esg_dataroot/cmip5/output1/MOHC/HadCM3/historical/mon/atmos/Amon/r5i1p1/v20110905/tas/tas_Amon_HadCM3_historical_r5i1p1_190912-193411.nc', u'http://esgf-data1.ceda.ac.uk/thredds/dodsC/esg_dataroot/cmip5/output1/MOHC/HadCM3/historical/mon/atmos/Amon/r5i1p1/v20110905/tas/tas_Amon_HadCM3_historical_r5i1p1_188412-190911.nc', u'http://esgf-data1.ceda.ac.uk/thredds/dodsC/esg_dataroot/cmip5/output1/MOHC/HadCM3/historical/mon/atmos/Amon/r5i1p1/v20110905/tas/tas_Amon_HadCM3_historical_r5i1p1_198412-200512.nc'], 'r8i1p1': [u'http://esgf-data1.ceda.ac.uk/thredds/dodsC/esg_dataroot/cmip5/output1/MOHC/HadCM3/historical/mon/atmos/Amon/r8i1p1/v20110905/tas/tas_Amon_HadCM3_historical_r8i1p1_193412-195911.nc', u'http://esgf-data1.ceda.ac.uk/thredds/dodsC/esg_dataroot/cmip5/output1/MOHC/HadCM3/historical/mon/atmos/Amon/r8i1p1/v20110905/tas/tas_Amon_HadCM3_historical_r8i1p1_185912-188411.nc', u'http://esgf-data1.ceda.ac.uk/thredds/dodsC/esg_dataroot/cmip5/output1/MOHC/HadCM3/historical/mon/atmos/Amon/r8i1p1/v20110905/tas/tas_Amon_HadCM3_historical_r8i1p1_195912-198411.nc', u'http://esgf-data1.ceda.ac.uk/thredds/dodsC/esg_dataroot/cmip5/output1/MOHC/HadCM3/historical/mon/atmos/Amon/r8i1p1/v20110905/tas/tas_Amon_HadCM3_historical_r8i1p1_190912-193411.nc', u'http://esgf-data1.ceda.ac.uk/thredds/dodsC/esg_dataroot/cmip5/output1/MOHC/HadCM3/historical/mon/atmos/Amon/r8i1p1/v20110905/tas/tas_Amon_HadCM3_historical_r8i1p1_188412-190911.nc', u'http://esgf-data1.ceda.ac.uk/thredds/dodsC/esg_dataroot/cmip5/output1/MOHC/HadCM3/historical/mon/atmos/Amon/r8i1p1/v20110905/tas/tas_Amon_HadCM3_historical_r8i1p1_198412-200512.nc']}\n",
    "\n",
    "giss_p2_files = {'r9i1p2': [], 'r7i1p2': [], 'r1i1p2': [u'http://esgf.nccs.nasa.gov/thredds/dodsC/CMIP5/NASA/GISS/historical/E2-H_historical_r1i1p2/tas_Amon_GISS-E2-H_historical_r1i1p2_195101-200512.nc', u'http://esgf.nccs.nasa.gov/thredds/dodsC/CMIP5/NASA/GISS/historical/E2-H_historical_r1i1p2/tas_Amon_GISS-E2-H_historical_r1i1p2_185001-195012.nc'], 'r2i1p2': [u'http://esgf.nccs.nasa.gov/thredds/dodsC/CMIP5/NASA/GISS/historical/E2-H_historical_r2i1p2/tas_Amon_GISS-E2-H_historical_r2i1p2_195101-200512.nc', u'http://esgf.nccs.nasa.gov/thredds/dodsC/CMIP5/NASA/GISS/historical/E2-H_historical_r2i1p2/tas_Amon_GISS-E2-H_historical_r2i1p2_185001-195012.nc'], 'r10i1p2': [], 'r4i1p2': [u'http://esgf.nccs.nasa.gov/thredds/dodsC/CMIP5/NASA/GISS/historical/E2-H_historical_r4i1p2/tas_Amon_GISS-E2-H_historical_r4i1p2_185001-195012.nc', u'http://esgf.nccs.nasa.gov/thredds/dodsC/CMIP5/NASA/GISS/historical/E2-H_historical_r4i1p2/tas_Amon_GISS-E2-H_historical_r4i1p2_195101-200512.nc'], 'r8i1p2': [], 'r5i1p2': [u'http://esgf.nccs.nasa.gov/thredds/dodsC/CMIP5/NASA/GISS/historical/E2-H_historical_r5i1p2/tas_Amon_GISS-E2-H_historical_r5i1p2_185001-195012.nc', u'http://esgf.nccs.nasa.gov/thredds/dodsC/CMIP5/NASA/GISS/historical/E2-H_historical_r5i1p2/tas_Amon_GISS-E2-H_historical_r5i1p2_195101-200512.nc'], 'r6i1p2': [u'http://esgf.nccs.nasa.gov/thredds/dodsC/CMIP5/NASA/GISS/historical/E2-H_historical_r6i1p2/tas_Amon_GISS-E2-H_historical_r6i1p2_195101-200012.nc', u'http://esgf.nccs.nasa.gov/thredds/dodsC/CMIP5/NASA/GISS/historical/E2-H_historical_r6i1p2/tas_Amon_GISS-E2-H_historical_r6i1p2_190101-195012.nc', u'http://esgf.nccs.nasa.gov/thredds/dodsC/CMIP5/NASA/GISS/historical/E2-H_historical_r6i1p2/tas_Amon_GISS-E2-H_historical_r6i1p2_200101-200512.nc', u'http://esgf.nccs.nasa.gov/thredds/dodsC/CMIP5/NASA/GISS/historical/E2-H_historical_r6i1p2/tas_Amon_GISS-E2-H_historical_r6i1p2_185001-190012.nc'], 'r3i1p2': [u'http://esgf.nccs.nasa.gov/thredds/dodsC/CMIP5/NASA/GISS/historical/E2-H_historical_r3i1p2/tas_Amon_GISS-E2-H_historical_r3i1p2_195101-200512.nc', u'http://esgf.nccs.nasa.gov/thredds/dodsC/CMIP5/NASA/GISS/historical/E2-H_historical_r3i1p2/tas_Amon_GISS-E2-H_historical_r3i1p2_185001-195012.nc']}\n",
    "\n",
    "ipsl_files = {'r2i1p1': [u'http://esgf.extra.cea.fr/thredds/dodsC/work_cmip5/output1/IPSL/IPSL-CM5A-LR/historical/mon/atmos/Amon/r2i1p1/v20110406/tas/tas_Amon_IPSL-CM5A-LR_historical_r2i1p1_185001-200512.nc'], 'r1i1p1': [u'http://esgf.extra.cea.fr/thredds/dodsC/work_cmip5/output1/IPSL/IPSL-CM5A-LR/historical/mon/atmos/Amon/r1i1p1/v20110406/tas/tas_Amon_IPSL-CM5A-LR_historical_r1i1p1_185001-200512.nc'], 'r4i1p1': [u'http://esgf.extra.cea.fr/thredds/dodsC/work_cmip5/output1/IPSL/IPSL-CM5A-LR/historical/mon/atmos/Amon/r4i1p1/v20130506/tas/tas_Amon_IPSL-CM5A-LR_historical_r4i1p1_185001-200512.nc'], 'r3i1p1': [u'http://esgf.extra.cea.fr/thredds/dodsC/work_cmip5/output1/IPSL/IPSL-CM5A-LR/historical/mon/atmos/Amon/r3i1p1/v20110406/tas/tas_Amon_IPSL-CM5A-LR_historical_r3i1p1_185001-200512.nc'], 'r6i1p1': [u'http://esgf.extra.cea.fr/thredds/dodsC/work_cmip5/output1/IPSL/IPSL-CM5A-LR/historical/mon/atmos/Amon/r6i1p1/v20120526/tas/tas_Amon_IPSL-CM5A-LR_historical_r6i1p1_185001-200512.nc'], 'r5i1p1': [u'http://esgf.extra.cea.fr/thredds/dodsC/work_cmip5/output1/IPSL/IPSL-CM5A-LR/historical/mon/atmos/Amon/r5i1p1/v20111119/tas/tas_Amon_IPSL-CM5A-LR_historical_r5i1p1_185001-200512.nc']}\n",
    "\n",
    "models_files = {\"giss_p1\":giss_files,\"giss_p2\":giss_p2_files}"
   ]
  },
  {
   "cell_type": "code",
   "execution_count": null,
   "metadata": {
    "collapsed": false
   },
   "outputs": [],
   "source": [
    "# At this point we prepare to aggregated files\n",
    "lon = Dimension(\"longitude\",-130,-70)\n",
    "lat = Dimension(\"latitude\",25,50)\n",
    "time = Dimension(\"time\",\"1900\",\"1940\")\n",
    "domain = Domain(dimensions=(lon,lat,time))\n",
    "\n",
    "# Aggreagte function\n",
    "def aggregate(files, domain, debug=False):\n",
    "    process = wps.get_process('cdat.aggregate')\n",
    "    vars = []\n",
    "    if debug:\n",
    "        print \"files:\",files\n",
    "    for f in files:\n",
    "        vars.append(Variable(f,\"tas\"))\n",
    "    process.execute(inputs=vars,domain=domain)\n",
    "    return process"
   ]
  },
  {
   "cell_type": "code",
   "execution_count": null,
   "metadata": {
    "collapsed": false
   },
   "outputs": [
    {
     "name": "stdout",
     "output_type": "stream",
     "text": [
      "Working on rips for giss_p2\n",
      "\tENSEMBLE: r6i1p2 out of 10\n",
      "\tENSEMBLE: r4i1p2 out of 10\n",
      "\tENSEMBLE: r1i1p2 out of 10\n"
     ]
    }
   ],
   "source": [
    "# Loop through models files and create aggregated one\n",
    "# On the domain we want.\n",
    "agg = {}\n",
    "for model, model_files in models_files.iteritems():\n",
    "    print \"Working on rips for %s\" % model\n",
    "    agg[model]={}\n",
    "    for ens,files in model_files.iteritems():\n",
    "        if len(files)==0:\n",
    "            continue\n",
    "        print \"\\tENSEMBLE:\",ens, \"out of %i\" % len(model_files)\n",
    "        process = aggregate(sorted(files)[::-1],domain)\n",
    "        agg[model][ens]=process.output.uri.replace(\"0.0.0.0\",\"thredds\")\n",
    "print agg"
   ]
  },
  {
   "cell_type": "code",
   "execution_count": null,
   "metadata": {
    "collapsed": true
   },
   "outputs": [],
   "source": [
    "#agg = {'giss_p2': {'r1i1p2': u'http://0.0.0.0:8080/thredds/dodsC/test/6d52840a-0d5a-4241-83a1-54940843a94d.nc', 'r2i1p2': u'http://0.0.0.0:8080/thredds/dodsC/test/f6efaa7b-95ab-46d6-8c8d-7bdc724669f2.nc', 'r4i1p2': u'http://0.0.0.0:8080/thredds/dodsC/test/e4c94a5c-b005-4ae5-aeb1-33b2942e7a9f.nc', 'r5i1p2': u'http://0.0.0.0:8080/thredds/dodsC/test/f582ed2e-ce10-455a-8dfb-28bcace746a7.nc', 'r6i1p2': u'http://0.0.0.0:8080/thredds/dodsC/test/31313bfc-f0ef-4338-b810-b93f4abd4594.nc', 'r3i1p2': u'http://0.0.0.0:8080/thredds/dodsC/test/e40df641-4a0a-467a-a081-8e56a90cb674.nc'}}"
   ]
  },
  {
   "cell_type": "code",
   "execution_count": null,
   "metadata": {
    "collapsed": false
   },
   "outputs": [],
   "source": [
    "#testing\n",
    "import cdms2\n",
    "print agg[\"giss_p2\"][\"r1i1p2\"]\n",
    "f=cdms2.open(agg[\"giss_p2\"][\"r1i1p2\"])\n",
    "v=f[\"tas\"]\n",
    "print v.shape"
   ]
  },
  {
   "cell_type": "code",
   "execution_count": null,
   "metadata": {
    "collapsed": false
   },
   "outputs": [],
   "source": [
    "# Now compute the ensemble average of each model\n",
    "# And then ensemble of averages\n",
    "operations = []\n",
    "for model, ensembles in agg.iteritems():\n",
    "    print model\n",
    "    vars = []\n",
    "    for ensemble, agg_file in ensembles.iteritems():\n",
    "        print \"\\t\",ensemble\n",
    "        vars.append(Variable(agg_file,\"tas\"))\n",
    "        ens_op = Operation(\"cdat.ensemble\",inputs=vars)\n",
    "        operations.append(ens_op)"
   ]
  },
  {
   "cell_type": "code",
   "execution_count": null,
   "metadata": {
    "collapsed": false
   },
   "outputs": [],
   "source": [
    "target=Gridder(\"T42\")\n",
    "multi = Operation(\"cdat.ensemble\",inputs=operations,gridder=target)\n",
    "wps.execute_op(multi)\n",
    "out = multi.output.uri"
   ]
  },
  {
   "cell_type": "code",
   "execution_count": null,
   "metadata": {
    "collapsed": true
   },
   "outputs": [],
   "source": [
    "wps."
   ]
  }
 ],
 "metadata": {
  "kernelspec": {
   "display_name": "Python 2",
   "language": "python",
   "name": "python2"
  },
  "language_info": {
   "codemirror_mode": {
    "name": "ipython",
    "version": 2
   },
   "file_extension": ".py",
   "mimetype": "text/x-python",
   "name": "python",
   "nbconvert_exporter": "python",
   "pygments_lexer": "ipython2",
   "version": "2.7.12"
  }
 },
 "nbformat": 4,
 "nbformat_minor": 1
}
