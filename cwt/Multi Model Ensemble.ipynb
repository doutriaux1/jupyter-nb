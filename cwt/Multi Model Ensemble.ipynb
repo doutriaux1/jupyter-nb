{
 "cells": [
  {
   "cell_type": "code",
   "execution_count": 23,
   "metadata": {
    "collapsed": false
   },
   "outputs": [],
   "source": [
    "# First we need to import a few things\n",
    "from esgf import WPS\n",
    "from esgf import Variable, NamedParameter, Dimension, Domain"
   ]
  },
  {
   "cell_type": "code",
   "execution_count": 24,
   "metadata": {
    "collapsed": true
   },
   "outputs": [],
   "source": [
    "# Now let's connect to our server\n",
    "wps = WPS('http://0.0.0.0:8000/wps/',username=\"wps_test\",password=\"Abc123!!\")"
   ]
  },
  {
   "cell_type": "code",
   "execution_count": 25,
   "metadata": {
    "collapsed": false
   },
   "outputs": [
    {
     "name": "stdout",
     "output_type": "stream",
     "text": [
      "test.echo\n",
      "test.sleep\n",
      "test.passthrough\n",
      "cdat.aggregate\n",
      "averager.ophidia\n",
      "averager.ensemble_ophidia\n",
      "averager.mv\n",
      "averager.multi_model_ensemble_ophidia\n"
     ]
    }
   ],
   "source": [
    "# Let's inspect which services are available on this server\n",
    "for proc in wps:\n",
    "    print proc.name"
   ]
  },
  {
   "cell_type": "code",
   "execution_count": 26,
   "metadata": {
    "collapsed": false
   },
   "outputs": [],
   "source": [
    "# Here we could do a search using pyesgf (see jupyter notebook)\n",
    "# For this demo using a pre-searched list\n",
    "cnrm_files = {'r7i1p1': [u'http://esg.cnrm-game-meteo.fr/thredds/dodsC/CMIP5_CNRM/output1/CNRM-CERFACS/CNRM-CM5/historical/mon/atmos/Amon/r7i1p1/v20110901/tas/tas_Amon_CNRM-CM5_historical_r7i1p1_185001-189912.nc', u'http://esg.cnrm-game-meteo.fr/thredds/dodsC/CMIP5_CNRM/output1/CNRM-CERFACS/CNRM-CM5/historical/mon/atmos/Amon/r7i1p1/v20110901/tas/tas_Amon_CNRM-CM5_historical_r7i1p1_195001-200512.nc', u'http://esg.cnrm-game-meteo.fr/thredds/dodsC/CMIP5_CNRM/output1/CNRM-CERFACS/CNRM-CM5/historical/mon/atmos/Amon/r7i1p1/v20110901/tas/tas_Amon_CNRM-CM5_historical_r7i1p1_190001-194912.nc'], 'r9i1p1': [u'http://esg.cnrm-game-meteo.fr/thredds/dodsC/CMIP5_CNRM/output1/CNRM-CERFACS/CNRM-CM5/historical/mon/atmos/Amon/r9i1p1/v20110901/tas/tas_Amon_CNRM-CM5_historical_r9i1p1_195001-200512.nc', u'http://esg.cnrm-game-meteo.fr/thredds/dodsC/CMIP5_CNRM/output1/CNRM-CERFACS/CNRM-CM5/historical/mon/atmos/Amon/r9i1p1/v20110901/tas/tas_Amon_CNRM-CM5_historical_r9i1p1_190001-194912.nc', u'http://esg.cnrm-game-meteo.fr/thredds/dodsC/CMIP5_CNRM/output1/CNRM-CERFACS/CNRM-CM5/historical/mon/atmos/Amon/r9i1p1/v20110901/tas/tas_Amon_CNRM-CM5_historical_r9i1p1_185001-189912.nc'], 'r2i1p1': [u'http://esg.cnrm-game-meteo.fr/thredds/dodsC/CMIP5_CNRM/output1/CNRM-CERFACS/CNRM-CM5/historical/mon/atmos/Amon/r2i1p1/v20110901/tas/tas_Amon_CNRM-CM5_historical_r2i1p1_185001-189912.nc', u'http://esg.cnrm-game-meteo.fr/thredds/dodsC/CMIP5_CNRM/output1/CNRM-CERFACS/CNRM-CM5/historical/mon/atmos/Amon/r2i1p1/v20110901/tas/tas_Amon_CNRM-CM5_historical_r2i1p1_195001-200512.nc', u'http://esg.cnrm-game-meteo.fr/thredds/dodsC/CMIP5_CNRM/output1/CNRM-CERFACS/CNRM-CM5/historical/mon/atmos/Amon/r2i1p1/v20110901/tas/tas_Amon_CNRM-CM5_historical_r2i1p1_190001-194912.nc'], 'r1i1p1': [u'http://esg.cnrm-game-meteo.fr/thredds/dodsC/CMIP5_CNRM/output1/CNRM-CERFACS/CNRM-CM5/historical/mon/atmos/Amon/r1i1p1/v20110901/tas/tas_Amon_CNRM-CM5_historical_r1i1p1_190001-194912.nc', u'http://esg.cnrm-game-meteo.fr/thredds/dodsC/CMIP5_CNRM/output1/CNRM-CERFACS/CNRM-CM5/historical/mon/atmos/Amon/r1i1p1/v20110901/tas/tas_Amon_CNRM-CM5_historical_r1i1p1_195001-200512.nc', u'http://esg.cnrm-game-meteo.fr/thredds/dodsC/CMIP5_CNRM/output1/CNRM-CERFACS/CNRM-CM5/historical/mon/atmos/Amon/r1i1p1/v20110901/tas/tas_Amon_CNRM-CM5_historical_r1i1p1_185001-189912.nc'], 'r10i1p1': [u'http://esg.cnrm-game-meteo.fr/thredds/dodsC/CMIP5_CNRM/output1/CNRM-CERFACS/CNRM-CM5/historical/mon/atmos/Amon/r10i1p1/v20110901/tas/tas_Amon_CNRM-CM5_historical_r10i1p1_195001-200512.nc', u'http://esg.cnrm-game-meteo.fr/thredds/dodsC/CMIP5_CNRM/output1/CNRM-CERFACS/CNRM-CM5/historical/mon/atmos/Amon/r10i1p1/v20110901/tas/tas_Amon_CNRM-CM5_historical_r10i1p1_190001-194912.nc', u'http://esg.cnrm-game-meteo.fr/thredds/dodsC/CMIP5_CNRM/output1/CNRM-CERFACS/CNRM-CM5/historical/mon/atmos/Amon/r10i1p1/v20110901/tas/tas_Amon_CNRM-CM5_historical_r10i1p1_185001-189912.nc'], 'r4i1p1': [u'http://esg.cnrm-game-meteo.fr/thredds/dodsC/CMIP5_CNRM/output1/CNRM-CERFACS/CNRM-CM5/historical/mon/atmos/Amon/r4i1p1/v20110901/tas/tas_Amon_CNRM-CM5_historical_r4i1p1_195001-200512.nc', u'http://esg.cnrm-game-meteo.fr/thredds/dodsC/CMIP5_CNRM/output1/CNRM-CERFACS/CNRM-CM5/historical/mon/atmos/Amon/r4i1p1/v20110901/tas/tas_Amon_CNRM-CM5_historical_r4i1p1_190001-194912.nc', u'http://esg.cnrm-game-meteo.fr/thredds/dodsC/CMIP5_CNRM/output1/CNRM-CERFACS/CNRM-CM5/historical/mon/atmos/Amon/r4i1p1/v20110901/tas/tas_Amon_CNRM-CM5_historical_r4i1p1_185001-189912.nc'], 'r3i1p1': [u'http://esg.cnrm-game-meteo.fr/thredds/dodsC/CMIP5_CNRM/output1/CNRM-CERFACS/CNRM-CM5/historical/mon/atmos/Amon/r3i1p1/v20110901/tas/tas_Amon_CNRM-CM5_historical_r3i1p1_190001-194912.nc', u'http://esg.cnrm-game-meteo.fr/thredds/dodsC/CMIP5_CNRM/output1/CNRM-CERFACS/CNRM-CM5/historical/mon/atmos/Amon/r3i1p1/v20110901/tas/tas_Amon_CNRM-CM5_historical_r3i1p1_195001-200512.nc', u'http://esg.cnrm-game-meteo.fr/thredds/dodsC/CMIP5_CNRM/output1/CNRM-CERFACS/CNRM-CM5/historical/mon/atmos/Amon/r3i1p1/v20110901/tas/tas_Amon_CNRM-CM5_historical_r3i1p1_185001-189912.nc'], 'r6i1p1': [u'http://esg.cnrm-game-meteo.fr/thredds/dodsC/CMIP5_CNRM/output1/CNRM-CERFACS/CNRM-CM5/historical/mon/atmos/Amon/r6i1p1/v20110901/tas/tas_Amon_CNRM-CM5_historical_r6i1p1_195001-200512.nc', u'http://esg.cnrm-game-meteo.fr/thredds/dodsC/CMIP5_CNRM/output1/CNRM-CERFACS/CNRM-CM5/historical/mon/atmos/Amon/r6i1p1/v20110901/tas/tas_Amon_CNRM-CM5_historical_r6i1p1_190001-194912.nc', u'http://esg.cnrm-game-meteo.fr/thredds/dodsC/CMIP5_CNRM/output1/CNRM-CERFACS/CNRM-CM5/historical/mon/atmos/Amon/r6i1p1/v20110901/tas/tas_Amon_CNRM-CM5_historical_r6i1p1_185001-189912.nc'], 'r5i1p1': [u'http://esg.cnrm-game-meteo.fr/thredds/dodsC/CMIP5_CNRM/output1/CNRM-CERFACS/CNRM-CM5/historical/mon/atmos/Amon/r5i1p1/v20110901/tas/tas_Amon_CNRM-CM5_historical_r5i1p1_195001-200512.nc', u'http://esg.cnrm-game-meteo.fr/thredds/dodsC/CMIP5_CNRM/output1/CNRM-CERFACS/CNRM-CM5/historical/mon/atmos/Amon/r5i1p1/v20110901/tas/tas_Amon_CNRM-CM5_historical_r5i1p1_190001-194912.nc', u'http://esg.cnrm-game-meteo.fr/thredds/dodsC/CMIP5_CNRM/output1/CNRM-CERFACS/CNRM-CM5/historical/mon/atmos/Amon/r5i1p1/v20110901/tas/tas_Amon_CNRM-CM5_historical_r5i1p1_185001-189912.nc'], 'r8i1p1': [u'http://esg.cnrm-game-meteo.fr/thredds/dodsC/CMIP5_CNRM/output1/CNRM-CERFACS/CNRM-CM5/historical/mon/atmos/Amon/r8i1p1/v20110901/tas/tas_Amon_CNRM-CM5_historical_r8i1p1_195001-200512.nc', u'http://esg.cnrm-game-meteo.fr/thredds/dodsC/CMIP5_CNRM/output1/CNRM-CERFACS/CNRM-CM5/historical/mon/atmos/Amon/r8i1p1/v20110901/tas/tas_Amon_CNRM-CM5_historical_r8i1p1_190001-194912.nc', u'http://esg.cnrm-game-meteo.fr/thredds/dodsC/CMIP5_CNRM/output1/CNRM-CERFACS/CNRM-CM5/historical/mon/atmos/Amon/r8i1p1/v20110901/tas/tas_Amon_CNRM-CM5_historical_r8i1p1_185001-189912.nc']}\n",
    "\n",
    "giss_files = {'r2i1p1': [u'http://esgf.nccs.nasa.gov/thredds/dodsC/CMIP5/NASA/GISS/historical/E2-H_historical_r2i1p1/tas_Amon_GISS-E2-H_historical_r2i1p1_195101-200512.nc', u'http://esgf.nccs.nasa.gov/thredds/dodsC/CMIP5/NASA/GISS/historical/E2-H_historical_r2i1p1/tas_Amon_GISS-E2-H_historical_r2i1p1_190101-195012.nc', u'http://esgf.nccs.nasa.gov/thredds/dodsC/CMIP5/NASA/GISS/historical/E2-H_historical_r2i1p1/tas_Amon_GISS-E2-H_historical_r2i1p1_185001-190012.nc'], 'r1i1p1': [u'http://esgf.nccs.nasa.gov/thredds/dodsC/CMIP5/NASA/GISS/historical/E2-H_historical_r1i1p1/tas_Amon_GISS-E2-H_historical_r1i1p1_195101-200512.nc', u'http://esgf.nccs.nasa.gov/thredds/dodsC/CMIP5/NASA/GISS/historical/E2-H_historical_r1i1p1/tas_Amon_GISS-E2-H_historical_r1i1p1_185001-190012.nc', u'http://esgf.nccs.nasa.gov/thredds/dodsC/CMIP5/NASA/GISS/historical/E2-H_historical_r1i1p1/tas_Amon_GISS-E2-H_historical_r1i1p1_190101-195012.nc'], 'r4i1p1': [u'http://esgf.nccs.nasa.gov/thredds/dodsC/CMIP5/NASA/GISS/historical/E2-H_historical_r4i1p1/tas_Amon_GISS-E2-H_historical_r4i1p1_195101-200512.nc', u'http://esgf.nccs.nasa.gov/thredds/dodsC/CMIP5/NASA/GISS/historical/E2-H_historical_r4i1p1/tas_Amon_GISS-E2-H_historical_r4i1p1_190101-195012.nc', u'http://esgf.nccs.nasa.gov/thredds/dodsC/CMIP5/NASA/GISS/historical/E2-H_historical_r4i1p1/tas_Amon_GISS-E2-H_historical_r4i1p1_185001-190012.nc'], 'r3i1p1': [u'http://esgf.nccs.nasa.gov/thredds/dodsC/CMIP5/NASA/GISS/historical/E2-H_historical_r3i1p1/tas_Amon_GISS-E2-H_historical_r3i1p1_195101-200512.nc', u'http://esgf.nccs.nasa.gov/thredds/dodsC/CMIP5/NASA/GISS/historical/E2-H_historical_r3i1p1/tas_Amon_GISS-E2-H_historical_r3i1p1_190101-195012.nc', u'http://esgf.nccs.nasa.gov/thredds/dodsC/CMIP5/NASA/GISS/historical/E2-H_historical_r3i1p1/tas_Amon_GISS-E2-H_historical_r3i1p1_185001-190012.nc'], 'r6i1p1': [u'http://esgf.nccs.nasa.gov/thredds/dodsC/CMIP5/NASA/GISS/historical/E2-H_historical_r6i1p1/tas_Amon_GISS-E2-H_historical_r6i1p1_195101-200012.nc', u'http://esgf.nccs.nasa.gov/thredds/dodsC/CMIP5/NASA/GISS/historical/E2-H_historical_r6i1p1/tas_Amon_GISS-E2-H_historical_r6i1p1_190101-195012.nc', u'http://esgf.nccs.nasa.gov/thredds/dodsC/CMIP5/NASA/GISS/historical/E2-H_historical_r6i1p1/tas_Amon_GISS-E2-H_historical_r6i1p1_185001-190012.nc', u'http://esgf.nccs.nasa.gov/thredds/dodsC/CMIP5/NASA/GISS/historical/E2-H_historical_r6i1p1/tas_Amon_GISS-E2-H_historical_r6i1p1_200101-200512.nc'], 'r5i1p1': [u'http://esgf.nccs.nasa.gov/thredds/dodsC/CMIP5/NASA/GISS/historical/E2-H_historical_r5i1p1/tas_Amon_GISS-E2-H_historical_r5i1p1_195101-200512.nc', u'http://esgf.nccs.nasa.gov/thredds/dodsC/CMIP5/NASA/GISS/historical/E2-H_historical_r5i1p1/tas_Amon_GISS-E2-H_historical_r5i1p1_185001-190012.nc', u'http://esgf.nccs.nasa.gov/thredds/dodsC/CMIP5/NASA/GISS/historical/E2-H_historical_r5i1p1/tas_Amon_GISS-E2-H_historical_r5i1p1_190101-195012.nc']}"
   ]
  },
  {
   "cell_type": "code",
   "execution_count": 35,
   "metadata": {
    "collapsed": false
   },
   "outputs": [],
   "source": [
    "# At this point we are creating the aggregated file\n",
    "giss_agg = {}\n",
    "lon = Dimension(\"longitude\",-130,-70)\n",
    "lat = Dimension(\"latitude\",25,50)\n",
    "time = Dimension(\"time\",\"1900\",\"1940\")\n",
    "domain = Domain(dimensions=(lon,lat,time))"
   ]
  },
  {
   "cell_type": "code",
   "execution_count": 36,
   "metadata": {
    "collapsed": false
   },
   "outputs": [
    {
     "name": "stdout",
     "output_type": "stream",
     "text": [
      "[u'http://esgf.nccs.nasa.gov/thredds/dodsC/CMIP5/NASA/GISS/historical/E2-H_historical_r2i1p1/tas_Amon_GISS-E2-H_historical_r2i1p1_195101-200512.nc', u'http://esgf.nccs.nasa.gov/thredds/dodsC/CMIP5/NASA/GISS/historical/E2-H_historical_r2i1p1/tas_Amon_GISS-E2-H_historical_r2i1p1_190101-195012.nc', u'http://esgf.nccs.nasa.gov/thredds/dodsC/CMIP5/NASA/GISS/historical/E2-H_historical_r2i1p1/tas_Amon_GISS-E2-H_historical_r2i1p1_185001-190012.nc']\n"
     ]
    }
   ],
   "source": [
    "print giss_files[\"r2i1p1\"]\n"
   ]
  },
  {
   "cell_type": "code",
   "execution_count": 37,
   "metadata": {
    "collapsed": false
   },
   "outputs": [
    {
     "name": "stdout",
     "output_type": "stream",
     "text": [
      "ENSEMBLE: r2i1p1\n",
      "ENSEMBLE: r1i1p1\n",
      "ENSEMBLE: r4i1p1\n",
      "ENSEMBLE: r3i1p1\n",
      "ENSEMBLE: r6i1p1\n",
      "ENSEMBLE: r5i1p1\n",
      "{'r2i1p1': u'http://0.0.0.0:8080/thredds/dodsC/test/76e564bf-b538-4a32-acd7-b03faf42f658.nc', 'r1i1p1': u'http://0.0.0.0:8080/thredds/dodsC/test/cd2bd2ec-a1b9-449a-85d8-1db981687494.nc', 'r4i1p1': u'http://0.0.0.0:8080/thredds/dodsC/test/c53e7444-9c2b-4f98-98ec-c8b4ce354ef6.nc', 'r3i1p1': u'http://0.0.0.0:8080/thredds/dodsC/test/bf79bb90-6301-46cb-a51a-e4148bab7fd8.nc', 'r6i1p1': u'http://0.0.0.0:8080/thredds/dodsC/test/fda663af-738f-44a0-9285-c23e63a9c875.nc', 'r5i1p1': u'http://0.0.0.0:8080/thredds/dodsC/test/3762cfba-d6ef-44be-b810-e2e4eaf46dcf.nc'}\n"
     ]
    }
   ],
   "source": [
    "for ens,files in giss_files.iteritems():\n",
    "    print \"ENSEMBLE:\",ens\n",
    "    vars = []\n",
    "    for f in sorted(files)[::-1]:\n",
    "        vars.append(Variable(f,\"tas\"))\n",
    "    process = wps.get_process('cdat.aggregate')\n",
    "    process.execute(inputs=vars,domain=domain)\n",
    "    giss_agg[ens]=process.output.uri\n",
    "print giss_agg"
   ]
  },
  {
   "cell_type": "code",
   "execution_count": 38,
   "metadata": {
    "collapsed": false
   },
   "outputs": [
    {
     "name": "stdout",
     "output_type": "stream",
     "text": [
      "(492, 13, 24)\n"
     ]
    }
   ],
   "source": [
    "#testing\n",
    "import cdms2\n",
    "f=cdms2.open(giss_agg[\"r1i1p1\"])\n",
    "v=f[\"tas\"]\n",
    "print v.shape"
   ]
  },
  {
   "cell_type": "code",
   "execution_count": 1,
   "metadata": {
    "collapsed": false
   },
   "outputs": [
    {
     "ename": "NameError",
     "evalue": "name 'giss_agg' is not defined",
     "output_type": "error",
     "traceback": [
      "\u001b[0;31m---------------------------------------------------------------------------\u001b[0m",
      "\u001b[0;31mNameError\u001b[0m                                 Traceback (most recent call last)",
      "\u001b[0;32m<ipython-input-1-a7d5dc23709a>\u001b[0m in \u001b[0;36m<module>\u001b[0;34m()\u001b[0m\n\u001b[1;32m      1\u001b[0m \u001b[0mgiss_vars\u001b[0m \u001b[0;34m=\u001b[0m \u001b[0;34m[\u001b[0m\u001b[0;34m]\u001b[0m\u001b[0;34m\u001b[0m\u001b[0m\n\u001b[0;32m----> 2\u001b[0;31m \u001b[0;32mfor\u001b[0m \u001b[0mens\u001b[0m \u001b[0;32min\u001b[0m \u001b[0mgiss_agg\u001b[0m\u001b[0;34m:\u001b[0m\u001b[0;34m\u001b[0m\u001b[0m\n\u001b[0m\u001b[1;32m      3\u001b[0m     \u001b[0mgiss_vars\u001b[0m\u001b[0;34m.\u001b[0m\u001b[0mappend\u001b[0m\u001b[0;34m(\u001b[0m\u001b[0mgiss_agg\u001b[0m\u001b[0;34m[\u001b[0m\u001b[0mens\u001b[0m\u001b[0;34m]\u001b[0m\u001b[0;34m,\u001b[0m\u001b[0;34m\"tas\"\u001b[0m\u001b[0;34m)\u001b[0m\u001b[0;34m\u001b[0m\u001b[0m\n\u001b[1;32m      4\u001b[0m \u001b[0mgiss_ens\u001b[0m \u001b[0;34m=\u001b[0m \u001b[0mesgf\u001b[0m\u001b[0;34m.\u001b[0m\u001b[0mOperation\u001b[0m\u001b[0;34m(\u001b[0m\u001b[0;34m\"cdat.ensemble\"\u001b[0m\u001b[0;34m,\u001b[0m\u001b[0minputs\u001b[0m\u001b[0;34m=\u001b[0m\u001b[0mgiss_vars\u001b[0m\u001b[0;34m)\u001b[0m\u001b[0;34m\u001b[0m\u001b[0m\n\u001b[1;32m      5\u001b[0m \u001b[0mcnrm_ens\u001b[0m \u001b[0;34m=\u001b[0m \u001b[0mesgf\u001b[0m\u001b[0;34m.\u001b[0m\u001b[0mOperation\u001b[0m\u001b[0;34m(\u001b[0m\u001b[0;34m\"cdat.ensemble\"\u001b[0m\u001b[0;34m,\u001b[0m\u001b[0minputs\u001b[0m\u001b[0;34m=\u001b[0m\u001b[0mcnrm_vars\u001b[0m\u001b[0;34m)\u001b[0m\u001b[0;34m\u001b[0m\u001b[0m\n",
      "\u001b[0;31mNameError\u001b[0m: name 'giss_agg' is not defined"
     ]
    }
   ],
   "source": [
    "giss_vars = []\n",
    "for ens in giss_agg:\n",
    "    giss_vars.append(giss_agg[ens],\"tas\")\n",
    "giss_ens = esgf.Operation(\"cdat.ensemble\",inputs=giss_vars)\n",
    "cnrm_ens = esgf.Operation(\"cdat.ensemble\",inputs=cnrm_vars)\n",
    "target=Gridder(\"T42\")\n",
    "multi = esgf.Operation(\"cdat.ensemble\",inputs=[giss_ens,cnrm_ens],gridder=target)\n",
    "wps.exec_op(multi)\n",
    "out = multi.output.uri\n"
   ]
  },
  {
   "cell_type": "code",
   "execution_count": null,
   "metadata": {
    "collapsed": true
   },
   "outputs": [],
   "source": []
  }
 ],
 "metadata": {
  "kernelspec": {
   "display_name": "Python 2",
   "language": "python",
   "name": "python2"
  },
  "language_info": {
   "codemirror_mode": {
    "name": "ipython",
    "version": 2
   },
   "file_extension": ".py",
   "mimetype": "text/x-python",
   "name": "python",
   "nbconvert_exporter": "python",
   "pygments_lexer": "ipython2",
   "version": "2.7.12"
  }
 },
 "nbformat": 4,
 "nbformat_minor": 1
}
