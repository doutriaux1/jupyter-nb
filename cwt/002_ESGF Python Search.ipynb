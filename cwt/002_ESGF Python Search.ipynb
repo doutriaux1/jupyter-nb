{
 "cells": [
  {
   "cell_type": "code",
   "execution_count": 2,
   "metadata": {
    "collapsed": false
   },
   "outputs": [
    {
     "name": "stdout",
     "output_type": "stream",
     "text": [
      "Model: GISS-E2-R\n",
      "\tr1i1p1\n",
      "\t\tFor r1i1p1 We found: 7 files\n",
      "\tr2i1p1\n",
      "\t\tFor r2i1p1 We found: 7 files\n",
      "\tr3i1p1\n",
      "\t\tFor r3i1p1 We found: 7 files\n",
      "\tr4i1p1\n",
      "\t\tFor r4i1p1 We found: 7 files\n",
      "\tr5i1p1\n",
      "\t\tFor r5i1p1 We found: 7 files\n",
      "\tr6i1p1\n",
      "\t\tFor r6i1p1 We found: 7 files\n",
      "\tr7i1p1\n",
      "\tr8i1p1\n",
      "\tr9i1p1\n",
      "\tr10i1p1\n"
     ]
    }
   ],
   "source": [
    "# pyesgf search\n",
    "# Let's do a search, python module is at: https://github.com/stephenpascoe/esgf-pyclient\n",
    "import pyesgf.search\n",
    "from pyesgf.search import SearchConnection\n",
    "\n",
    "params = {\n",
    "    'project':'CMIP5',\n",
    "    'model':'CNRM-CM5',\n",
    "    'experiment':'historical',\n",
    "    'time_frequency':'mon',\n",
    "    'variable':'tas',\n",
    "    'ensemble':'r10i1p1'\n",
    "}\n",
    "\n",
    "def get_files(param):\n",
    "    opendap = True\n",
    "\n",
    "    conn = SearchConnection('http://pcmdi.llnl.gov/esg-search')\n",
    "\n",
    "    ds_result = conn.new_context(replica=False).search(**params)\n",
    "\n",
    "    files =[]\n",
    "    for ds in ds_result:\n",
    "        for file_entry in ds.file_context().search(variable=params['variable']):\n",
    "            if opendap:\n",
    "                files.append(file_entry.opendap_url)\n",
    "            else:\n",
    "                files.append(file_entry.download_url)\n",
    "    return files\n",
    "\n",
    "files={}\n",
    "models = [\"GISS-E2-R\",]\n",
    "Ps = [1,]\n",
    "Is= range(1,11)\n",
    "for model in models:\n",
    "    print \"Model:\",model\n",
    "    params[\"model\"]=model\n",
    "    for p in ps:\n",
    "        files[\"%s_p%i\" % (model,p)] = {}\n",
    "        for i in Is:\n",
    "            ens = \"r%ii1p%i\" % (i,p)\n",
    "            print \"\\t\",ens\n",
    "            params[\"ensemble\"]=ens\n",
    "            found = get_files(params)\n",
    "            if len(found)>0:\n",
    "                files[\"%s_p%i\" % (model,p)][ens] = found\n",
    "                print \"\\t\\tFor %s We found: %i files\" % (ens,len(files[\"%s_p%i\" % (model,p)][ens]))"
   ]
  },
  {
   "cell_type": "code",
   "execution_count": 4,
   "metadata": {
    "collapsed": false
   },
   "outputs": [
    {
     "name": "stdout",
     "output_type": "stream",
     "text": [
      "{'r2i1p1': [u'http://esgf.nccs.nasa.gov/thredds/dodsC/CMIP5/NASA/GISS/historical/E2-R_historical_r2i1p1/tas_Amon_GISS-E2-R_historical_r2i1p1_190101-192512.nc', u'http://esgf.nccs.nasa.gov/thredds/dodsC/CMIP5/NASA/GISS/historical/E2-R_historical_r2i1p1/tas_Amon_GISS-E2-R_historical_r2i1p1_187601-190012.nc', u'http://esgf.nccs.nasa.gov/thredds/dodsC/CMIP5/NASA/GISS/historical/E2-R_historical_r2i1p1/tas_Amon_GISS-E2-R_historical_r2i1p1_185001-187512.nc', u'http://esgf.nccs.nasa.gov/thredds/dodsC/CMIP5/NASA/GISS/historical/E2-R_historical_r2i1p1/tas_Amon_GISS-E2-R_historical_r2i1p1_195101-197512.nc', u'http://esgf.nccs.nasa.gov/thredds/dodsC/CMIP5/NASA/GISS/historical/E2-R_historical_r2i1p1/tas_Amon_GISS-E2-R_historical_r2i1p1_197601-200012.nc', u'http://esgf.nccs.nasa.gov/thredds/dodsC/CMIP5/NASA/GISS/historical/E2-R_historical_r2i1p1/tas_Amon_GISS-E2-R_historical_r2i1p1_192601-195012.nc', u'http://esgf.nccs.nasa.gov/thredds/dodsC/CMIP5/NASA/GISS/historical/E2-R_historical_r2i1p1/tas_Amon_GISS-E2-R_historical_r2i1p1_200101-200512.nc'], 'r1i1p1': [u'http://esgf.nccs.nasa.gov/thredds/dodsC/CMIP5/NASA/GISS/historical/E2-R_historical_r1i1p1/tas_Amon_GISS-E2-R_historical_r1i1p1_197601-200012.nc', u'http://esgf.nccs.nasa.gov/thredds/dodsC/CMIP5/NASA/GISS/historical/E2-R_historical_r1i1p1/tas_Amon_GISS-E2-R_historical_r1i1p1_195101-197512.nc', u'http://esgf.nccs.nasa.gov/thredds/dodsC/CMIP5/NASA/GISS/historical/E2-R_historical_r1i1p1/tas_Amon_GISS-E2-R_historical_r1i1p1_192601-195012.nc', u'http://esgf.nccs.nasa.gov/thredds/dodsC/CMIP5/NASA/GISS/historical/E2-R_historical_r1i1p1/tas_Amon_GISS-E2-R_historical_r1i1p1_190101-192512.nc', u'http://esgf.nccs.nasa.gov/thredds/dodsC/CMIP5/NASA/GISS/historical/E2-R_historical_r1i1p1/tas_Amon_GISS-E2-R_historical_r1i1p1_187601-190012.nc', u'http://esgf.nccs.nasa.gov/thredds/dodsC/CMIP5/NASA/GISS/historical/E2-R_historical_r1i1p1/tas_Amon_GISS-E2-R_historical_r1i1p1_185001-187512.nc', u'http://esgf.nccs.nasa.gov/thredds/dodsC/CMIP5/NASA/GISS/historical/E2-R_historical_r1i1p1/tas_Amon_GISS-E2-R_historical_r1i1p1_200101-200512.nc'], 'r4i1p1': [u'http://esgf.nccs.nasa.gov/thredds/dodsC/CMIP5/NASA/GISS/historical/E2-R_historical_r4i1p1/tas_Amon_GISS-E2-R_historical_r4i1p1_185001-187512.nc', u'http://esgf.nccs.nasa.gov/thredds/dodsC/CMIP5/NASA/GISS/historical/E2-R_historical_r4i1p1/tas_Amon_GISS-E2-R_historical_r4i1p1_192601-195012.nc', u'http://esgf.nccs.nasa.gov/thredds/dodsC/CMIP5/NASA/GISS/historical/E2-R_historical_r4i1p1/tas_Amon_GISS-E2-R_historical_r4i1p1_190101-192512.nc', u'http://esgf.nccs.nasa.gov/thredds/dodsC/CMIP5/NASA/GISS/historical/E2-R_historical_r4i1p1/tas_Amon_GISS-E2-R_historical_r4i1p1_197601-200012.nc', u'http://esgf.nccs.nasa.gov/thredds/dodsC/CMIP5/NASA/GISS/historical/E2-R_historical_r4i1p1/tas_Amon_GISS-E2-R_historical_r4i1p1_195101-197512.nc', u'http://esgf.nccs.nasa.gov/thredds/dodsC/CMIP5/NASA/GISS/historical/E2-R_historical_r4i1p1/tas_Amon_GISS-E2-R_historical_r4i1p1_187601-190012.nc', u'http://esgf.nccs.nasa.gov/thredds/dodsC/CMIP5/NASA/GISS/historical/E2-R_historical_r4i1p1/tas_Amon_GISS-E2-R_historical_r4i1p1_200101-200512.nc'], 'r3i1p1': [u'http://esgf.nccs.nasa.gov/thredds/dodsC/CMIP5/NASA/GISS/historical/E2-R_historical_r3i1p1/tas_Amon_GISS-E2-R_historical_r3i1p1_192601-195012.nc', u'http://esgf.nccs.nasa.gov/thredds/dodsC/CMIP5/NASA/GISS/historical/E2-R_historical_r3i1p1/tas_Amon_GISS-E2-R_historical_r3i1p1_197601-200012.nc', u'http://esgf.nccs.nasa.gov/thredds/dodsC/CMIP5/NASA/GISS/historical/E2-R_historical_r3i1p1/tas_Amon_GISS-E2-R_historical_r3i1p1_195101-197512.nc', u'http://esgf.nccs.nasa.gov/thredds/dodsC/CMIP5/NASA/GISS/historical/E2-R_historical_r3i1p1/tas_Amon_GISS-E2-R_historical_r3i1p1_200101-200512.nc', u'http://esgf.nccs.nasa.gov/thredds/dodsC/CMIP5/NASA/GISS/historical/E2-R_historical_r3i1p1/tas_Amon_GISS-E2-R_historical_r3i1p1_190101-192512.nc', u'http://esgf.nccs.nasa.gov/thredds/dodsC/CMIP5/NASA/GISS/historical/E2-R_historical_r3i1p1/tas_Amon_GISS-E2-R_historical_r3i1p1_187601-190012.nc', u'http://esgf.nccs.nasa.gov/thredds/dodsC/CMIP5/NASA/GISS/historical/E2-R_historical_r3i1p1/tas_Amon_GISS-E2-R_historical_r3i1p1_185001-187512.nc'], 'r6i1p1': [u'http://esgf.nccs.nasa.gov/thredds/dodsC/CMIP5/NASA/GISS/historical/E2-R_historical_r6i1p1/tas_Amon_GISS-E2-R_historical_r6i1p1_200101-200512.nc', u'http://esgf.nccs.nasa.gov/thredds/dodsC/CMIP5/NASA/GISS/historical/E2-R_historical_r6i1p1/tas_Amon_GISS-E2-R_historical_r6i1p1_192601-195012.nc', u'http://esgf.nccs.nasa.gov/thredds/dodsC/CMIP5/NASA/GISS/historical/E2-R_historical_r6i1p1/tas_Amon_GISS-E2-R_historical_r6i1p1_190101-192512.nc', u'http://esgf.nccs.nasa.gov/thredds/dodsC/CMIP5/NASA/GISS/historical/E2-R_historical_r6i1p1/tas_Amon_GISS-E2-R_historical_r6i1p1_187601-190012.nc', u'http://esgf.nccs.nasa.gov/thredds/dodsC/CMIP5/NASA/GISS/historical/E2-R_historical_r6i1p1/tas_Amon_GISS-E2-R_historical_r6i1p1_185001-187512.nc', u'http://esgf.nccs.nasa.gov/thredds/dodsC/CMIP5/NASA/GISS/historical/E2-R_historical_r6i1p1/tas_Amon_GISS-E2-R_historical_r6i1p1_195101-197512.nc', u'http://esgf.nccs.nasa.gov/thredds/dodsC/CMIP5/NASA/GISS/historical/E2-R_historical_r6i1p1/tas_Amon_GISS-E2-R_historical_r6i1p1_197601-200012.nc'], 'r5i1p1': [u'http://esgf.nccs.nasa.gov/thredds/dodsC/CMIP5/NASA/GISS/historical/E2-R_historical_r5i1p1/tas_Amon_GISS-E2-R_historical_r5i1p1_197601-200012.nc', u'http://esgf.nccs.nasa.gov/thredds/dodsC/CMIP5/NASA/GISS/historical/E2-R_historical_r5i1p1/tas_Amon_GISS-E2-R_historical_r5i1p1_192601-195012.nc', u'http://esgf.nccs.nasa.gov/thredds/dodsC/CMIP5/NASA/GISS/historical/E2-R_historical_r5i1p1/tas_Amon_GISS-E2-R_historical_r5i1p1_200101-200512.nc', u'http://esgf.nccs.nasa.gov/thredds/dodsC/CMIP5/NASA/GISS/historical/E2-R_historical_r5i1p1/tas_Amon_GISS-E2-R_historical_r5i1p1_195101-197512.nc', u'http://esgf.nccs.nasa.gov/thredds/dodsC/CMIP5/NASA/GISS/historical/E2-R_historical_r5i1p1/tas_Amon_GISS-E2-R_historical_r5i1p1_190101-192512.nc', u'http://esgf.nccs.nasa.gov/thredds/dodsC/CMIP5/NASA/GISS/historical/E2-R_historical_r5i1p1/tas_Amon_GISS-E2-R_historical_r5i1p1_187601-190012.nc', u'http://esgf.nccs.nasa.gov/thredds/dodsC/CMIP5/NASA/GISS/historical/E2-R_historical_r5i1p1/tas_Amon_GISS-E2-R_historical_r5i1p1_185001-187512.nc']}\n"
     ]
    }
   ],
   "source": [
    "print files[\"GISS-E2-R_p1\"]"
   ]
  },
  {
   "cell_type": "code",
   "execution_count": null,
   "metadata": {
    "collapsed": true
   },
   "outputs": [],
   "source": []
  }
 ],
 "metadata": {
  "kernelspec": {
   "display_name": "Python 2",
   "language": "python",
   "name": "python2"
  },
  "language_info": {
   "codemirror_mode": {
    "name": "ipython",
    "version": 2
   },
   "file_extension": ".py",
   "mimetype": "text/x-python",
   "name": "python",
   "nbconvert_exporter": "python",
   "pygments_lexer": "ipython2",
   "version": "2.7.12"
  }
 },
 "nbformat": 4,
 "nbformat_minor": 1
}
