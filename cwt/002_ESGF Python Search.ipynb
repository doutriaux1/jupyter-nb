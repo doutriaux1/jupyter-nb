{
 "cells": [
  {
   "cell_type": "code",
   "execution_count": 12,
   "metadata": {
    "collapsed": false
   },
   "outputs": [
    {
     "name": "stdout",
     "output_type": "stream",
     "text": [
      "Model: IPSL-CM5A-LR\n",
      "\t\tFor r1i1p1 We found: 1 files\n",
      "\t\tFor r2i1p1 We found: 1 files\n",
      "\t\tFor r3i1p1 We found: 1 files\n",
      "\t\tFor r4i1p1 We found: 1 files\n",
      "\t\tFor r5i1p1 We found: 1 files\n",
      "\t\tFor r6i1p1 We found: 1 files\n"
     ]
    }
   ],
   "source": [
    "# pyesgf search\n",
    "# Let's do a search, python module is at: https://github.com/stephenpascoe/esgf-pyclient\n",
    "from pyesgf.search import SearchConnection\n",
    "\n",
    "params = {\n",
    "    'project':'CMIP5',\n",
    "    'model':'CNRM-CM5',\n",
    "    'experiment':'historical',\n",
    "    'time_frequency':'mon',\n",
    "    'variable':'tas',\n",
    "    'ensemble':'r10i1p1'\n",
    "}\n",
    "\n",
    "def get_files(param):\n",
    "    opendap = True\n",
    "\n",
    "    conn = SearchConnection('http://pcmdi.llnl.gov/esg-search')\n",
    "\n",
    "    ds_result = conn.new_context(replica=False).search(**params)\n",
    "\n",
    "    files =[]\n",
    "    for ds in ds_result:\n",
    "        for file_entry in ds.file_context().search(variable=params['variable']):\n",
    "            if opendap:\n",
    "                files.append(file_entry.opendap_url)\n",
    "            else:\n",
    "                files.append(file_entry.download_url)\n",
    "    return files\n",
    "\n",
    "files={}\n",
    "models = [\"IPSL-CM5A-LR\",]\n",
    "for model in models:\n",
    "    print \"Model:\",model\n",
    "    params[\"model\"]=model\n",
    "    for p in [1,2]:\n",
    "        files[\"%s_p%i\" % (model,p)] = {}\n",
    "        for i in range(1,11):\n",
    "            ens = \"r%ii1p%i\" % (i,p)\n",
    "            print \"\\t\",ens\n",
    "            params[\"ensemble\"]=ens\n",
    "            found = get_files(params)\n",
    "            if len(found)>0:\n",
    "                files[\"%s_p%i\" % (model,p)][ens] = found\n",
    "                print \"\\t\\tFor %s We found: %i files\" % (ens,len(files[\"%s_p%i\" % (model,p)][ens]))"
   ]
  },
  {
   "cell_type": "code",
   "execution_count": 13,
   "metadata": {
    "collapsed": false
   },
   "outputs": [
    {
     "name": "stdout",
     "output_type": "stream",
     "text": [
      "{'r2i1p1': [u'http://esgf.extra.cea.fr/thredds/dodsC/work_cmip5/output1/IPSL/IPSL-CM5A-LR/historical/mon/atmos/Amon/r2i1p1/v20110406/tas/tas_Amon_IPSL-CM5A-LR_historical_r2i1p1_185001-200512.nc'], 'r1i1p1': [u'http://esgf.extra.cea.fr/thredds/dodsC/work_cmip5/output1/IPSL/IPSL-CM5A-LR/historical/mon/atmos/Amon/r1i1p1/v20110406/tas/tas_Amon_IPSL-CM5A-LR_historical_r1i1p1_185001-200512.nc'], 'r4i1p1': [u'http://esgf.extra.cea.fr/thredds/dodsC/work_cmip5/output1/IPSL/IPSL-CM5A-LR/historical/mon/atmos/Amon/r4i1p1/v20130506/tas/tas_Amon_IPSL-CM5A-LR_historical_r4i1p1_185001-200512.nc'], 'r3i1p1': [u'http://esgf.extra.cea.fr/thredds/dodsC/work_cmip5/output1/IPSL/IPSL-CM5A-LR/historical/mon/atmos/Amon/r3i1p1/v20110406/tas/tas_Amon_IPSL-CM5A-LR_historical_r3i1p1_185001-200512.nc'], 'r6i1p1': [u'http://esgf.extra.cea.fr/thredds/dodsC/work_cmip5/output1/IPSL/IPSL-CM5A-LR/historical/mon/atmos/Amon/r6i1p1/v20120526/tas/tas_Amon_IPSL-CM5A-LR_historical_r6i1p1_185001-200512.nc'], 'r5i1p1': [u'http://esgf.extra.cea.fr/thredds/dodsC/work_cmip5/output1/IPSL/IPSL-CM5A-LR/historical/mon/atmos/Amon/r5i1p1/v20111119/tas/tas_Amon_IPSL-CM5A-LR_historical_r5i1p1_185001-200512.nc']}\n"
     ]
    }
   ],
   "source": [
    "print files[\"IPSL-CM5A-LR_p1\"]"
   ]
  },
  {
   "cell_type": "code",
   "execution_count": null,
   "metadata": {
    "collapsed": true
   },
   "outputs": [],
   "source": []
  }
 ],
 "metadata": {
  "kernelspec": {
   "display_name": "Python 2",
   "language": "python",
   "name": "python2"
  },
  "language_info": {
   "codemirror_mode": {
    "name": "ipython",
    "version": 2
   },
   "file_extension": ".py",
   "mimetype": "text/x-python",
   "name": "python",
   "nbconvert_exporter": "python",
   "pygments_lexer": "ipython2",
   "version": "2.7.12"
  }
 },
 "nbformat": 4,
 "nbformat_minor": 1
}
