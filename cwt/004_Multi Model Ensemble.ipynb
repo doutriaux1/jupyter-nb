{
 "cells": [
  {
   "cell_type": "code",
   "execution_count": 1,
   "metadata": {
    "collapsed": false
   },
   "outputs": [],
   "source": [
    "# First we need to import a few things\n",
    "from esgf import WPS\n",
    "from esgf import Variable, NamedParameter, Dimension, Domain, Gridder, Operation"
   ]
  },
  {
   "cell_type": "code",
   "execution_count": 2,
   "metadata": {
    "collapsed": true
   },
   "outputs": [],
   "source": [
    "# Now let's connect to our server\n",
    "wps = WPS('http://0.0.0.0:8000/wps/',username=\"wps_test\",password=\"Abc123!!\")"
   ]
  },
  {
   "cell_type": "code",
   "execution_count": 3,
   "metadata": {
    "collapsed": false
   },
   "outputs": [
    {
     "name": "stdout",
     "output_type": "stream",
     "text": [
      "cdat.aggregate\n",
      "cdat.averager\n",
      "cdat.ensemble\n",
      "ophidia.averager\n",
      "ophidia.ensemble\n",
      "test.echo\n",
      "test.passthrough\n",
      "test.sleep\n"
     ]
    }
   ],
   "source": [
    "# Let's inspect which services are available on this server\n",
    "for proc in wps:\n",
    "    print proc.name"
   ]
  },
  {
   "cell_type": "code",
   "execution_count": 4,
   "metadata": {
    "collapsed": false
   },
   "outputs": [],
   "source": [
    "# Here we could do a search using pyesgf (see jupyter notebook)\n",
    "# For this demo using a pre-searched list\n",
    "#cnrm_files = {'r7i1p1': [u'http://esg.cnrm-game-meteo.fr/thredds/dodsC/CMIP5_CNRM/output1/CNRM-CERFACS/CNRM-CM5/historical/mon/atmos/Amon/r7i1p1/v20110901/tas/tas_Amon_CNRM-CM5_historical_r7i1p1_185001-189912.nc', u'http://esg.cnrm-game-meteo.fr/thredds/dodsC/CMIP5_CNRM/output1/CNRM-CERFACS/CNRM-CM5/historical/mon/atmos/Amon/r7i1p1/v20110901/tas/tas_Amon_CNRM-CM5_historical_r7i1p1_195001-200512.nc', u'http://esg.cnrm-game-meteo.fr/thredds/dodsC/CMIP5_CNRM/output1/CNRM-CERFACS/CNRM-CM5/historical/mon/atmos/Amon/r7i1p1/v20110901/tas/tas_Amon_CNRM-CM5_historical_r7i1p1_190001-194912.nc'], 'r9i1p1': [u'http://esg.cnrm-game-meteo.fr/thredds/dodsC/CMIP5_CNRM/output1/CNRM-CERFACS/CNRM-CM5/historical/mon/atmos/Amon/r9i1p1/v20110901/tas/tas_Amon_CNRM-CM5_historical_r9i1p1_195001-200512.nc', u'http://esg.cnrm-game-meteo.fr/thredds/dodsC/CMIP5_CNRM/output1/CNRM-CERFACS/CNRM-CM5/historical/mon/atmos/Amon/r9i1p1/v20110901/tas/tas_Amon_CNRM-CM5_historical_r9i1p1_190001-194912.nc', u'http://esg.cnrm-game-meteo.fr/thredds/dodsC/CMIP5_CNRM/output1/CNRM-CERFACS/CNRM-CM5/historical/mon/atmos/Amon/r9i1p1/v20110901/tas/tas_Amon_CNRM-CM5_historical_r9i1p1_185001-189912.nc'], 'r2i1p1': [u'http://esg.cnrm-game-meteo.fr/thredds/dodsC/CMIP5_CNRM/output1/CNRM-CERFACS/CNRM-CM5/historical/mon/atmos/Amon/r2i1p1/v20110901/tas/tas_Amon_CNRM-CM5_historical_r2i1p1_185001-189912.nc', u'http://esg.cnrm-game-meteo.fr/thredds/dodsC/CMIP5_CNRM/output1/CNRM-CERFACS/CNRM-CM5/historical/mon/atmos/Amon/r2i1p1/v20110901/tas/tas_Amon_CNRM-CM5_historical_r2i1p1_195001-200512.nc', u'http://esg.cnrm-game-meteo.fr/thredds/dodsC/CMIP5_CNRM/output1/CNRM-CERFACS/CNRM-CM5/historical/mon/atmos/Amon/r2i1p1/v20110901/tas/tas_Amon_CNRM-CM5_historical_r2i1p1_190001-194912.nc'], 'r1i1p1': [u'http://esg.cnrm-game-meteo.fr/thredds/dodsC/CMIP5_CNRM/output1/CNRM-CERFACS/CNRM-CM5/historical/mon/atmos/Amon/r1i1p1/v20110901/tas/tas_Amon_CNRM-CM5_historical_r1i1p1_190001-194912.nc', u'http://esg.cnrm-game-meteo.fr/thredds/dodsC/CMIP5_CNRM/output1/CNRM-CERFACS/CNRM-CM5/historical/mon/atmos/Amon/r1i1p1/v20110901/tas/tas_Amon_CNRM-CM5_historical_r1i1p1_195001-200512.nc', u'http://esg.cnrm-game-meteo.fr/thredds/dodsC/CMIP5_CNRM/output1/CNRM-CERFACS/CNRM-CM5/historical/mon/atmos/Amon/r1i1p1/v20110901/tas/tas_Amon_CNRM-CM5_historical_r1i1p1_185001-189912.nc'], 'r10i1p1': [u'http://esg.cnrm-game-meteo.fr/thredds/dodsC/CMIP5_CNRM/output1/CNRM-CERFACS/CNRM-CM5/historical/mon/atmos/Amon/r10i1p1/v20110901/tas/tas_Amon_CNRM-CM5_historical_r10i1p1_195001-200512.nc', u'http://esg.cnrm-game-meteo.fr/thredds/dodsC/CMIP5_CNRM/output1/CNRM-CERFACS/CNRM-CM5/historical/mon/atmos/Amon/r10i1p1/v20110901/tas/tas_Amon_CNRM-CM5_historical_r10i1p1_190001-194912.nc', u'http://esg.cnrm-game-meteo.fr/thredds/dodsC/CMIP5_CNRM/output1/CNRM-CERFACS/CNRM-CM5/historical/mon/atmos/Amon/r10i1p1/v20110901/tas/tas_Amon_CNRM-CM5_historical_r10i1p1_185001-189912.nc'], 'r4i1p1': [u'http://esg.cnrm-game-meteo.fr/thredds/dodsC/CMIP5_CNRM/output1/CNRM-CERFACS/CNRM-CM5/historical/mon/atmos/Amon/r4i1p1/v20110901/tas/tas_Amon_CNRM-CM5_historical_r4i1p1_195001-200512.nc', u'http://esg.cnrm-game-meteo.fr/thredds/dodsC/CMIP5_CNRM/output1/CNRM-CERFACS/CNRM-CM5/historical/mon/atmos/Amon/r4i1p1/v20110901/tas/tas_Amon_CNRM-CM5_historical_r4i1p1_190001-194912.nc', u'http://esg.cnrm-game-meteo.fr/thredds/dodsC/CMIP5_CNRM/output1/CNRM-CERFACS/CNRM-CM5/historical/mon/atmos/Amon/r4i1p1/v20110901/tas/tas_Amon_CNRM-CM5_historical_r4i1p1_185001-189912.nc'], 'r3i1p1': [u'http://esg.cnrm-game-meteo.fr/thredds/dodsC/CMIP5_CNRM/output1/CNRM-CERFACS/CNRM-CM5/historical/mon/atmos/Amon/r3i1p1/v20110901/tas/tas_Amon_CNRM-CM5_historical_r3i1p1_190001-194912.nc', u'http://esg.cnrm-game-meteo.fr/thredds/dodsC/CMIP5_CNRM/output1/CNRM-CERFACS/CNRM-CM5/historical/mon/atmos/Amon/r3i1p1/v20110901/tas/tas_Amon_CNRM-CM5_historical_r3i1p1_195001-200512.nc', u'http://esg.cnrm-game-meteo.fr/thredds/dodsC/CMIP5_CNRM/output1/CNRM-CERFACS/CNRM-CM5/historical/mon/atmos/Amon/r3i1p1/v20110901/tas/tas_Amon_CNRM-CM5_historical_r3i1p1_185001-189912.nc'], 'r6i1p1': [u'http://esg.cnrm-game-meteo.fr/thredds/dodsC/CMIP5_CNRM/output1/CNRM-CERFACS/CNRM-CM5/historical/mon/atmos/Amon/r6i1p1/v20110901/tas/tas_Amon_CNRM-CM5_historical_r6i1p1_195001-200512.nc', u'http://esg.cnrm-game-meteo.fr/thredds/dodsC/CMIP5_CNRM/output1/CNRM-CERFACS/CNRM-CM5/historical/mon/atmos/Amon/r6i1p1/v20110901/tas/tas_Amon_CNRM-CM5_historical_r6i1p1_190001-194912.nc', u'http://esg.cnrm-game-meteo.fr/thredds/dodsC/CMIP5_CNRM/output1/CNRM-CERFACS/CNRM-CM5/historical/mon/atmos/Amon/r6i1p1/v20110901/tas/tas_Amon_CNRM-CM5_historical_r6i1p1_185001-189912.nc'], 'r5i1p1': [u'http://esg.cnrm-game-meteo.fr/thredds/dodsC/CMIP5_CNRM/output1/CNRM-CERFACS/CNRM-CM5/historical/mon/atmos/Amon/r5i1p1/v20110901/tas/tas_Amon_CNRM-CM5_historical_r5i1p1_195001-200512.nc', u'http://esg.cnrm-game-meteo.fr/thredds/dodsC/CMIP5_CNRM/output1/CNRM-CERFACS/CNRM-CM5/historical/mon/atmos/Amon/r5i1p1/v20110901/tas/tas_Amon_CNRM-CM5_historical_r5i1p1_190001-194912.nc', u'http://esg.cnrm-game-meteo.fr/thredds/dodsC/CMIP5_CNRM/output1/CNRM-CERFACS/CNRM-CM5/historical/mon/atmos/Amon/r5i1p1/v20110901/tas/tas_Amon_CNRM-CM5_historical_r5i1p1_185001-189912.nc'], 'r8i1p1': [u'http://esg.cnrm-game-meteo.fr/thredds/dodsC/CMIP5_CNRM/output1/CNRM-CERFACS/CNRM-CM5/historical/mon/atmos/Amon/r8i1p1/v20110901/tas/tas_Amon_CNRM-CM5_historical_r8i1p1_195001-200512.nc', u'http://esg.cnrm-game-meteo.fr/thredds/dodsC/CMIP5_CNRM/output1/CNRM-CERFACS/CNRM-CM5/historical/mon/atmos/Amon/r8i1p1/v20110901/tas/tas_Amon_CNRM-CM5_historical_r8i1p1_190001-194912.nc', u'http://esg.cnrm-game-meteo.fr/thredds/dodsC/CMIP5_CNRM/output1/CNRM-CERFACS/CNRM-CM5/historical/mon/atmos/Amon/r8i1p1/v20110901/tas/tas_Amon_CNRM-CM5_historical_r8i1p1_185001-189912.nc']}\n",
    "\n",
    "giss_files = {'r2i1p1': [u'http://esgf.nccs.nasa.gov/thredds/dodsC/CMIP5/NASA/GISS/historical/E2-H_historical_r2i1p1/tas_Amon_GISS-E2-H_historical_r2i1p1_195101-200512.nc', u'http://esgf.nccs.nasa.gov/thredds/dodsC/CMIP5/NASA/GISS/historical/E2-H_historical_r2i1p1/tas_Amon_GISS-E2-H_historical_r2i1p1_190101-195012.nc', u'http://esgf.nccs.nasa.gov/thredds/dodsC/CMIP5/NASA/GISS/historical/E2-H_historical_r2i1p1/tas_Amon_GISS-E2-H_historical_r2i1p1_185001-190012.nc'], 'r1i1p1': [u'http://esgf.nccs.nasa.gov/thredds/dodsC/CMIP5/NASA/GISS/historical/E2-H_historical_r1i1p1/tas_Amon_GISS-E2-H_historical_r1i1p1_195101-200512.nc', u'http://esgf.nccs.nasa.gov/thredds/dodsC/CMIP5/NASA/GISS/historical/E2-H_historical_r1i1p1/tas_Amon_GISS-E2-H_historical_r1i1p1_185001-190012.nc', u'http://esgf.nccs.nasa.gov/thredds/dodsC/CMIP5/NASA/GISS/historical/E2-H_historical_r1i1p1/tas_Amon_GISS-E2-H_historical_r1i1p1_190101-195012.nc'], 'r4i1p1': [u'http://esgf.nccs.nasa.gov/thredds/dodsC/CMIP5/NASA/GISS/historical/E2-H_historical_r4i1p1/tas_Amon_GISS-E2-H_historical_r4i1p1_195101-200512.nc', u'http://esgf.nccs.nasa.gov/thredds/dodsC/CMIP5/NASA/GISS/historical/E2-H_historical_r4i1p1/tas_Amon_GISS-E2-H_historical_r4i1p1_190101-195012.nc', u'http://esgf.nccs.nasa.gov/thredds/dodsC/CMIP5/NASA/GISS/historical/E2-H_historical_r4i1p1/tas_Amon_GISS-E2-H_historical_r4i1p1_185001-190012.nc'], 'r3i1p1': [u'http://esgf.nccs.nasa.gov/thredds/dodsC/CMIP5/NASA/GISS/historical/E2-H_historical_r3i1p1/tas_Amon_GISS-E2-H_historical_r3i1p1_195101-200512.nc', u'http://esgf.nccs.nasa.gov/thredds/dodsC/CMIP5/NASA/GISS/historical/E2-H_historical_r3i1p1/tas_Amon_GISS-E2-H_historical_r3i1p1_190101-195012.nc', u'http://esgf.nccs.nasa.gov/thredds/dodsC/CMIP5/NASA/GISS/historical/E2-H_historical_r3i1p1/tas_Amon_GISS-E2-H_historical_r3i1p1_185001-190012.nc'], 'r6i1p1': [u'http://esgf.nccs.nasa.gov/thredds/dodsC/CMIP5/NASA/GISS/historical/E2-H_historical_r6i1p1/tas_Amon_GISS-E2-H_historical_r6i1p1_195101-200012.nc', u'http://esgf.nccs.nasa.gov/thredds/dodsC/CMIP5/NASA/GISS/historical/E2-H_historical_r6i1p1/tas_Amon_GISS-E2-H_historical_r6i1p1_190101-195012.nc', u'http://esgf.nccs.nasa.gov/thredds/dodsC/CMIP5/NASA/GISS/historical/E2-H_historical_r6i1p1/tas_Amon_GISS-E2-H_historical_r6i1p1_185001-190012.nc', u'http://esgf.nccs.nasa.gov/thredds/dodsC/CMIP5/NASA/GISS/historical/E2-H_historical_r6i1p1/tas_Amon_GISS-E2-H_historical_r6i1p1_200101-200512.nc'], 'r5i1p1': [u'http://esgf.nccs.nasa.gov/thredds/dodsC/CMIP5/NASA/GISS/historical/E2-H_historical_r5i1p1/tas_Amon_GISS-E2-H_historical_r5i1p1_195101-200512.nc', u'http://esgf.nccs.nasa.gov/thredds/dodsC/CMIP5/NASA/GISS/historical/E2-H_historical_r5i1p1/tas_Amon_GISS-E2-H_historical_r5i1p1_185001-190012.nc', u'http://esgf.nccs.nasa.gov/thredds/dodsC/CMIP5/NASA/GISS/historical/E2-H_historical_r5i1p1/tas_Amon_GISS-E2-H_historical_r5i1p1_190101-195012.nc']}\n",
    "\n",
    "#hadcm3_files = {'r7i1p1': [u'http://esgf-data1.ceda.ac.uk/thredds/dodsC/esg_dataroot/cmip5/output1/MOHC/HadCM3/historical/mon/atmos/Amon/r7i1p1/v20110728/tas/tas_Amon_HadCM3_historical_r7i1p1_198412-200512.nc', u'http://esgf-data1.ceda.ac.uk/thredds/dodsC/esg_dataroot/cmip5/output1/MOHC/HadCM3/historical/mon/atmos/Amon/r7i1p1/v20110728/tas/tas_Amon_HadCM3_historical_r7i1p1_195912-198411.nc', u'http://esgf-data1.ceda.ac.uk/thredds/dodsC/esg_dataroot/cmip5/output1/MOHC/HadCM3/historical/mon/atmos/Amon/r7i1p1/v20110728/tas/tas_Amon_HadCM3_historical_r7i1p1_193412-195911.nc', u'http://esgf-data1.ceda.ac.uk/thredds/dodsC/esg_dataroot/cmip5/output1/MOHC/HadCM3/historical/mon/atmos/Amon/r7i1p1/v20110728/tas/tas_Amon_HadCM3_historical_r7i1p1_188412-190911.nc', u'http://esgf-data1.ceda.ac.uk/thredds/dodsC/esg_dataroot/cmip5/output1/MOHC/HadCM3/historical/mon/atmos/Amon/r7i1p1/v20110728/tas/tas_Amon_HadCM3_historical_r7i1p1_190912-193411.nc', u'http://esgf-data1.ceda.ac.uk/thredds/dodsC/esg_dataroot/cmip5/output1/MOHC/HadCM3/historical/mon/atmos/Amon/r7i1p1/v20110728/tas/tas_Amon_HadCM3_historical_r7i1p1_185912-188411.nc'], 'r9i1p1': [u'http://esgf-data1.ceda.ac.uk/thredds/dodsC/esg_dataroot/cmip5/output1/MOHC/HadCM3/historical/mon/atmos/Amon/r9i1p1/v20110728/tas/tas_Amon_HadCM3_historical_r9i1p1_198412-200512.nc', u'http://esgf-data1.ceda.ac.uk/thredds/dodsC/esg_dataroot/cmip5/output1/MOHC/HadCM3/historical/mon/atmos/Amon/r9i1p1/v20110728/tas/tas_Amon_HadCM3_historical_r9i1p1_195912-198411.nc', u'http://esgf-data1.ceda.ac.uk/thredds/dodsC/esg_dataroot/cmip5/output1/MOHC/HadCM3/historical/mon/atmos/Amon/r9i1p1/v20110728/tas/tas_Amon_HadCM3_historical_r9i1p1_188412-190911.nc', u'http://esgf-data1.ceda.ac.uk/thredds/dodsC/esg_dataroot/cmip5/output1/MOHC/HadCM3/historical/mon/atmos/Amon/r9i1p1/v20110728/tas/tas_Amon_HadCM3_historical_r9i1p1_185912-188411.nc', u'http://esgf-data1.ceda.ac.uk/thredds/dodsC/esg_dataroot/cmip5/output1/MOHC/HadCM3/historical/mon/atmos/Amon/r9i1p1/v20110728/tas/tas_Amon_HadCM3_historical_r9i1p1_193412-195911.nc', u'http://esgf-data1.ceda.ac.uk/thredds/dodsC/esg_dataroot/cmip5/output1/MOHC/HadCM3/historical/mon/atmos/Amon/r9i1p1/v20110728/tas/tas_Amon_HadCM3_historical_r9i1p1_190912-193411.nc'], 'r2i1p1': [u'http://esgf-data1.ceda.ac.uk/thredds/dodsC/esg_dataroot/cmip5/output1/MOHC/HadCM3/historical/mon/atmos/Amon/r2i1p1/v20110728/tas/tas_Amon_HadCM3_historical_r2i1p1_198412-200512.nc', u'http://esgf-data1.ceda.ac.uk/thredds/dodsC/esg_dataroot/cmip5/output1/MOHC/HadCM3/historical/mon/atmos/Amon/r2i1p1/v20110728/tas/tas_Amon_HadCM3_historical_r2i1p1_195912-198411.nc', u'http://esgf-data1.ceda.ac.uk/thredds/dodsC/esg_dataroot/cmip5/output1/MOHC/HadCM3/historical/mon/atmos/Amon/r2i1p1/v20110728/tas/tas_Amon_HadCM3_historical_r2i1p1_193412-195911.nc', u'http://esgf-data1.ceda.ac.uk/thredds/dodsC/esg_dataroot/cmip5/output1/MOHC/HadCM3/historical/mon/atmos/Amon/r2i1p1/v20110728/tas/tas_Amon_HadCM3_historical_r2i1p1_185912-188411.nc', u'http://esgf-data1.ceda.ac.uk/thredds/dodsC/esg_dataroot/cmip5/output1/MOHC/HadCM3/historical/mon/atmos/Amon/r2i1p1/v20110728/tas/tas_Amon_HadCM3_historical_r2i1p1_188412-190911.nc', u'http://esgf-data1.ceda.ac.uk/thredds/dodsC/esg_dataroot/cmip5/output1/MOHC/HadCM3/historical/mon/atmos/Amon/r2i1p1/v20110728/tas/tas_Amon_HadCM3_historical_r2i1p1_190912-193411.nc'], 'r1i1p1': [u'http://esgf-data1.ceda.ac.uk/thredds/dodsC/esg_dataroot/cmip5/output1/MOHC/HadCM3/historical/mon/atmos/Amon/r1i1p1/v20110728/tas/tas_Amon_HadCM3_historical_r1i1p1_188412-190911.nc', u'http://esgf-data1.ceda.ac.uk/thredds/dodsC/esg_dataroot/cmip5/output1/MOHC/HadCM3/historical/mon/atmos/Amon/r1i1p1/v20110728/tas/tas_Amon_HadCM3_historical_r1i1p1_185912-188411.nc', u'http://esgf-data1.ceda.ac.uk/thredds/dodsC/esg_dataroot/cmip5/output1/MOHC/HadCM3/historical/mon/atmos/Amon/r1i1p1/v20110728/tas/tas_Amon_HadCM3_historical_r1i1p1_198412-200512.nc', u'http://esgf-data1.ceda.ac.uk/thredds/dodsC/esg_dataroot/cmip5/output1/MOHC/HadCM3/historical/mon/atmos/Amon/r1i1p1/v20110728/tas/tas_Amon_HadCM3_historical_r1i1p1_195912-198411.nc', u'http://esgf-data1.ceda.ac.uk/thredds/dodsC/esg_dataroot/cmip5/output1/MOHC/HadCM3/historical/mon/atmos/Amon/r1i1p1/v20110728/tas/tas_Amon_HadCM3_historical_r1i1p1_193412-195911.nc', u'http://esgf-data1.ceda.ac.uk/thredds/dodsC/esg_dataroot/cmip5/output1/MOHC/HadCM3/historical/mon/atmos/Amon/r1i1p1/v20110728/tas/tas_Amon_HadCM3_historical_r1i1p1_190912-193411.nc', u'http://esgf-data1.ceda.ac.uk/thredds/dodsC/esg_dataroot/cmip5/output1/MOHC/HadCM3/historical/mon/atmos/Amon/r1i1p1/v20110823/tas/tas_Amon_HadCM3_historical_r1i1p1_185912-188411.nc', u'http://esgf-data1.ceda.ac.uk/thredds/dodsC/esg_dataroot/cmip5/output1/MOHC/HadCM3/historical/mon/atmos/Amon/r1i1p1/v20110823/tas/tas_Amon_HadCM3_historical_r1i1p1_190912-193411.nc', u'http://esgf-data1.ceda.ac.uk/thredds/dodsC/esg_dataroot/cmip5/output1/MOHC/HadCM3/historical/mon/atmos/Amon/r1i1p1/v20110823/tas/tas_Amon_HadCM3_historical_r1i1p1_188412-190911.nc', u'http://esgf-data1.ceda.ac.uk/thredds/dodsC/esg_dataroot/cmip5/output1/MOHC/HadCM3/historical/mon/atmos/Amon/r1i1p1/v20110823/tas/tas_Amon_HadCM3_historical_r1i1p1_193412-195911.nc', u'http://esgf-data1.ceda.ac.uk/thredds/dodsC/esg_dataroot/cmip5/output1/MOHC/HadCM3/historical/mon/atmos/Amon/r1i1p1/v20110823/tas/tas_Amon_HadCM3_historical_r1i1p1_198412-200512.nc', u'http://esgf-data1.ceda.ac.uk/thredds/dodsC/esg_dataroot/cmip5/output1/MOHC/HadCM3/historical/mon/atmos/Amon/r1i1p1/v20110823/tas/tas_Amon_HadCM3_historical_r1i1p1_195912-198411.nc'], 'r10i1p1': [u'http://esgf-data1.ceda.ac.uk/thredds/dodsC/esg_dataroot/cmip5/output1/MOHC/HadCM3/historical/mon/atmos/Amon/r10i1p1/v20110728/tas/tas_Amon_HadCM3_historical_r10i1p1_188412-190911.nc', u'http://esgf-data1.ceda.ac.uk/thredds/dodsC/esg_dataroot/cmip5/output1/MOHC/HadCM3/historical/mon/atmos/Amon/r10i1p1/v20110728/tas/tas_Amon_HadCM3_historical_r10i1p1_190912-193411.nc', u'http://esgf-data1.ceda.ac.uk/thredds/dodsC/esg_dataroot/cmip5/output1/MOHC/HadCM3/historical/mon/atmos/Amon/r10i1p1/v20110728/tas/tas_Amon_HadCM3_historical_r10i1p1_185912-188411.nc', u'http://esgf-data1.ceda.ac.uk/thredds/dodsC/esg_dataroot/cmip5/output1/MOHC/HadCM3/historical/mon/atmos/Amon/r10i1p1/v20110728/tas/tas_Amon_HadCM3_historical_r10i1p1_193412-195911.nc', u'http://esgf-data1.ceda.ac.uk/thredds/dodsC/esg_dataroot/cmip5/output1/MOHC/HadCM3/historical/mon/atmos/Amon/r10i1p1/v20110728/tas/tas_Amon_HadCM3_historical_r10i1p1_198412-200512.nc', u'http://esgf-data1.ceda.ac.uk/thredds/dodsC/esg_dataroot/cmip5/output1/MOHC/HadCM3/historical/mon/atmos/Amon/r10i1p1/v20110728/tas/tas_Amon_HadCM3_historical_r10i1p1_195912-198411.nc'], 'r4i1p1': [u'http://esgf-data1.ceda.ac.uk/thredds/dodsC/esg_dataroot/cmip5/output1/MOHC/HadCM3/historical/mon/atmos/Amon/r4i1p1/v20110728/tas/tas_Amon_HadCM3_historical_r4i1p1_190912-193411.nc', u'http://esgf-data1.ceda.ac.uk/thredds/dodsC/esg_dataroot/cmip5/output1/MOHC/HadCM3/historical/mon/atmos/Amon/r4i1p1/v20110728/tas/tas_Amon_HadCM3_historical_r4i1p1_188412-190911.nc', u'http://esgf-data1.ceda.ac.uk/thredds/dodsC/esg_dataroot/cmip5/output1/MOHC/HadCM3/historical/mon/atmos/Amon/r4i1p1/v20110728/tas/tas_Amon_HadCM3_historical_r4i1p1_185912-188411.nc', u'http://esgf-data1.ceda.ac.uk/thredds/dodsC/esg_dataroot/cmip5/output1/MOHC/HadCM3/historical/mon/atmos/Amon/r4i1p1/v20110728/tas/tas_Amon_HadCM3_historical_r4i1p1_198412-200512.nc', u'http://esgf-data1.ceda.ac.uk/thredds/dodsC/esg_dataroot/cmip5/output1/MOHC/HadCM3/historical/mon/atmos/Amon/r4i1p1/v20110728/tas/tas_Amon_HadCM3_historical_r4i1p1_195912-198411.nc', u'http://esgf-data1.ceda.ac.uk/thredds/dodsC/esg_dataroot/cmip5/output1/MOHC/HadCM3/historical/mon/atmos/Amon/r4i1p1/v20110728/tas/tas_Amon_HadCM3_historical_r4i1p1_193412-195911.nc'], 'r3i1p1': [u'http://esgf-data1.ceda.ac.uk/thredds/dodsC/esg_dataroot/cmip5/output1/MOHC/HadCM3/historical/mon/atmos/Amon/r3i1p1/v20110905/tas/tas_Amon_HadCM3_historical_r3i1p1_198412-200512.nc', u'http://esgf-data1.ceda.ac.uk/thredds/dodsC/esg_dataroot/cmip5/output1/MOHC/HadCM3/historical/mon/atmos/Amon/r3i1p1/v20110905/tas/tas_Amon_HadCM3_historical_r3i1p1_190912-193411.nc', u'http://esgf-data1.ceda.ac.uk/thredds/dodsC/esg_dataroot/cmip5/output1/MOHC/HadCM3/historical/mon/atmos/Amon/r3i1p1/v20110905/tas/tas_Amon_HadCM3_historical_r3i1p1_195912-198411.nc', u'http://esgf-data1.ceda.ac.uk/thredds/dodsC/esg_dataroot/cmip5/output1/MOHC/HadCM3/historical/mon/atmos/Amon/r3i1p1/v20110905/tas/tas_Amon_HadCM3_historical_r3i1p1_193412-195911.nc', u'http://esgf-data1.ceda.ac.uk/thredds/dodsC/esg_dataroot/cmip5/output1/MOHC/HadCM3/historical/mon/atmos/Amon/r3i1p1/v20110905/tas/tas_Amon_HadCM3_historical_r3i1p1_188412-190911.nc', u'http://esgf-data1.ceda.ac.uk/thredds/dodsC/esg_dataroot/cmip5/output1/MOHC/HadCM3/historical/mon/atmos/Amon/r3i1p1/v20110905/tas/tas_Amon_HadCM3_historical_r3i1p1_185912-188411.nc'], 'r6i1p1': [u'http://esgf-data1.ceda.ac.uk/thredds/dodsC/esg_dataroot/cmip5/output1/MOHC/HadCM3/historical/mon/atmos/Amon/r6i1p1/v20110728/tas/tas_Amon_HadCM3_historical_r6i1p1_190912-193411.nc', u'http://esgf-data1.ceda.ac.uk/thredds/dodsC/esg_dataroot/cmip5/output1/MOHC/HadCM3/historical/mon/atmos/Amon/r6i1p1/v20110728/tas/tas_Amon_HadCM3_historical_r6i1p1_198412-200512.nc', u'http://esgf-data1.ceda.ac.uk/thredds/dodsC/esg_dataroot/cmip5/output1/MOHC/HadCM3/historical/mon/atmos/Amon/r6i1p1/v20110728/tas/tas_Amon_HadCM3_historical_r6i1p1_195912-198411.nc', u'http://esgf-data1.ceda.ac.uk/thredds/dodsC/esg_dataroot/cmip5/output1/MOHC/HadCM3/historical/mon/atmos/Amon/r6i1p1/v20110728/tas/tas_Amon_HadCM3_historical_r6i1p1_193412-195911.nc', u'http://esgf-data1.ceda.ac.uk/thredds/dodsC/esg_dataroot/cmip5/output1/MOHC/HadCM3/historical/mon/atmos/Amon/r6i1p1/v20110728/tas/tas_Amon_HadCM3_historical_r6i1p1_185912-188411.nc', u'http://esgf-data1.ceda.ac.uk/thredds/dodsC/esg_dataroot/cmip5/output1/MOHC/HadCM3/historical/mon/atmos/Amon/r6i1p1/v20110728/tas/tas_Amon_HadCM3_historical_r6i1p1_188412-190911.nc'], 'r5i1p1': [u'http://esgf-data1.ceda.ac.uk/thredds/dodsC/esg_dataroot/cmip5/output1/MOHC/HadCM3/historical/mon/atmos/Amon/r5i1p1/v20110905/tas/tas_Amon_HadCM3_historical_r5i1p1_185912-188411.nc', u'http://esgf-data1.ceda.ac.uk/thredds/dodsC/esg_dataroot/cmip5/output1/MOHC/HadCM3/historical/mon/atmos/Amon/r5i1p1/v20110905/tas/tas_Amon_HadCM3_historical_r5i1p1_195912-198411.nc', u'http://esgf-data1.ceda.ac.uk/thredds/dodsC/esg_dataroot/cmip5/output1/MOHC/HadCM3/historical/mon/atmos/Amon/r5i1p1/v20110905/tas/tas_Amon_HadCM3_historical_r5i1p1_193412-195911.nc', u'http://esgf-data1.ceda.ac.uk/thredds/dodsC/esg_dataroot/cmip5/output1/MOHC/HadCM3/historical/mon/atmos/Amon/r5i1p1/v20110905/tas/tas_Amon_HadCM3_historical_r5i1p1_190912-193411.nc', u'http://esgf-data1.ceda.ac.uk/thredds/dodsC/esg_dataroot/cmip5/output1/MOHC/HadCM3/historical/mon/atmos/Amon/r5i1p1/v20110905/tas/tas_Amon_HadCM3_historical_r5i1p1_188412-190911.nc', u'http://esgf-data1.ceda.ac.uk/thredds/dodsC/esg_dataroot/cmip5/output1/MOHC/HadCM3/historical/mon/atmos/Amon/r5i1p1/v20110905/tas/tas_Amon_HadCM3_historical_r5i1p1_198412-200512.nc'], 'r8i1p1': [u'http://esgf-data1.ceda.ac.uk/thredds/dodsC/esg_dataroot/cmip5/output1/MOHC/HadCM3/historical/mon/atmos/Amon/r8i1p1/v20110905/tas/tas_Amon_HadCM3_historical_r8i1p1_193412-195911.nc', u'http://esgf-data1.ceda.ac.uk/thredds/dodsC/esg_dataroot/cmip5/output1/MOHC/HadCM3/historical/mon/atmos/Amon/r8i1p1/v20110905/tas/tas_Amon_HadCM3_historical_r8i1p1_185912-188411.nc', u'http://esgf-data1.ceda.ac.uk/thredds/dodsC/esg_dataroot/cmip5/output1/MOHC/HadCM3/historical/mon/atmos/Amon/r8i1p1/v20110905/tas/tas_Amon_HadCM3_historical_r8i1p1_195912-198411.nc', u'http://esgf-data1.ceda.ac.uk/thredds/dodsC/esg_dataroot/cmip5/output1/MOHC/HadCM3/historical/mon/atmos/Amon/r8i1p1/v20110905/tas/tas_Amon_HadCM3_historical_r8i1p1_190912-193411.nc', u'http://esgf-data1.ceda.ac.uk/thredds/dodsC/esg_dataroot/cmip5/output1/MOHC/HadCM3/historical/mon/atmos/Amon/r8i1p1/v20110905/tas/tas_Amon_HadCM3_historical_r8i1p1_188412-190911.nc', u'http://esgf-data1.ceda.ac.uk/thredds/dodsC/esg_dataroot/cmip5/output1/MOHC/HadCM3/historical/mon/atmos/Amon/r8i1p1/v20110905/tas/tas_Amon_HadCM3_historical_r8i1p1_198412-200512.nc']}\n",
    "\n",
    "giss_p2_files = {'r1i1p2': [u'http://esgf.nccs.nasa.gov/thredds/dodsC/CMIP5/NASA/GISS/historical/E2-H_historical_r1i1p2/tas_Amon_GISS-E2-H_historical_r1i1p2_195101-200512.nc', u'http://esgf.nccs.nasa.gov/thredds/dodsC/CMIP5/NASA/GISS/historical/E2-H_historical_r1i1p2/tas_Amon_GISS-E2-H_historical_r1i1p2_185001-195012.nc'], 'r2i1p2': [u'http://esgf.nccs.nasa.gov/thredds/dodsC/CMIP5/NASA/GISS/historical/E2-H_historical_r2i1p2/tas_Amon_GISS-E2-H_historical_r2i1p2_195101-200512.nc', u'http://esgf.nccs.nasa.gov/thredds/dodsC/CMIP5/NASA/GISS/historical/E2-H_historical_r2i1p2/tas_Amon_GISS-E2-H_historical_r2i1p2_185001-195012.nc'], 'r4i1p2': [u'http://esgf.nccs.nasa.gov/thredds/dodsC/CMIP5/NASA/GISS/historical/E2-H_historical_r4i1p2/tas_Amon_GISS-E2-H_historical_r4i1p2_185001-195012.nc', u'http://esgf.nccs.nasa.gov/thredds/dodsC/CMIP5/NASA/GISS/historical/E2-H_historical_r4i1p2/tas_Amon_GISS-E2-H_historical_r4i1p2_195101-200512.nc'], 'r5i1p2': [u'http://esgf.nccs.nasa.gov/thredds/dodsC/CMIP5/NASA/GISS/historical/E2-H_historical_r5i1p2/tas_Amon_GISS-E2-H_historical_r5i1p2_185001-195012.nc', u'http://esgf.nccs.nasa.gov/thredds/dodsC/CMIP5/NASA/GISS/historical/E2-H_historical_r5i1p2/tas_Amon_GISS-E2-H_historical_r5i1p2_195101-200512.nc'], 'r6i1p2': [u'http://esgf.nccs.nasa.gov/thredds/dodsC/CMIP5/NASA/GISS/historical/E2-H_historical_r6i1p2/tas_Amon_GISS-E2-H_historical_r6i1p2_195101-200012.nc', u'http://esgf.nccs.nasa.gov/thredds/dodsC/CMIP5/NASA/GISS/historical/E2-H_historical_r6i1p2/tas_Amon_GISS-E2-H_historical_r6i1p2_190101-195012.nc', u'http://esgf.nccs.nasa.gov/thredds/dodsC/CMIP5/NASA/GISS/historical/E2-H_historical_r6i1p2/tas_Amon_GISS-E2-H_historical_r6i1p2_200101-200512.nc', u'http://esgf.nccs.nasa.gov/thredds/dodsC/CMIP5/NASA/GISS/historical/E2-H_historical_r6i1p2/tas_Amon_GISS-E2-H_historical_r6i1p2_185001-190012.nc'], 'r3i1p2': [u'http://esgf.nccs.nasa.gov/thredds/dodsC/CMIP5/NASA/GISS/historical/E2-H_historical_r3i1p2/tas_Amon_GISS-E2-H_historical_r3i1p2_195101-200512.nc', u'http://esgf.nccs.nasa.gov/thredds/dodsC/CMIP5/NASA/GISS/historical/E2-H_historical_r3i1p2/tas_Amon_GISS-E2-H_historical_r3i1p2_185001-195012.nc']}\n",
    "\n",
    "#ipsl_files = {'r2i1p1': [u'http://esgf.extra.cea.fr/thredds/dodsC/work_cmip5/output1/IPSL/IPSL-CM5A-LR/historical/mon/atmos/Amon/r2i1p1/v20110406/tas/tas_Amon_IPSL-CM5A-LR_historical_r2i1p1_185001-200512.nc'], 'r1i1p1': [u'http://esgf.extra.cea.fr/thredds/dodsC/work_cmip5/output1/IPSL/IPSL-CM5A-LR/historical/mon/atmos/Amon/r1i1p1/v20110406/tas/tas_Amon_IPSL-CM5A-LR_historical_r1i1p1_185001-200512.nc'], 'r4i1p1': [u'http://esgf.extra.cea.fr/thredds/dodsC/work_cmip5/output1/IPSL/IPSL-CM5A-LR/historical/mon/atmos/Amon/r4i1p1/v20130506/tas/tas_Amon_IPSL-CM5A-LR_historical_r4i1p1_185001-200512.nc'], 'r3i1p1': [u'http://esgf.extra.cea.fr/thredds/dodsC/work_cmip5/output1/IPSL/IPSL-CM5A-LR/historical/mon/atmos/Amon/r3i1p1/v20110406/tas/tas_Amon_IPSL-CM5A-LR_historical_r3i1p1_185001-200512.nc'], 'r6i1p1': [u'http://esgf.extra.cea.fr/thredds/dodsC/work_cmip5/output1/IPSL/IPSL-CM5A-LR/historical/mon/atmos/Amon/r6i1p1/v20120526/tas/tas_Amon_IPSL-CM5A-LR_historical_r6i1p1_185001-200512.nc'], 'r5i1p1': [u'http://esgf.extra.cea.fr/thredds/dodsC/work_cmip5/output1/IPSL/IPSL-CM5A-LR/historical/mon/atmos/Amon/r5i1p1/v20111119/tas/tas_Amon_IPSL-CM5A-LR_historical_r5i1p1_185001-200512.nc']}\n",
    "\n",
    "models_files = {\"giss_p1\":giss_files,\"giss_p2\":giss_p2_files}"
   ]
  },
  {
   "cell_type": "code",
   "execution_count": 5,
   "metadata": {
    "collapsed": false
   },
   "outputs": [],
   "source": [
    "# At this point we prepare to aggregated files\n",
    "lon = Dimension(\"longitude\",-130,-70)\n",
    "lat = Dimension(\"latitude\",25,50)\n",
    "time = Dimension(\"time\",\"1930\",\"1940\")\n",
    "domain = Domain(dimensions=(lon,lat,time))\n",
    "\n",
    "# Aggreagte function\n",
    "def aggregate(files, domain, debug=False):\n",
    "    process = wps.get_process('cdat.aggregate')\n",
    "    vars = []\n",
    "    if debug:\n",
    "        print \"files:\",files\n",
    "    for f in files:\n",
    "        vars.append(Variable(f,\"tas\"))\n",
    "    process.execute(inputs=vars,domain=domain)\n",
    "    return process"
   ]
  },
  {
   "cell_type": "code",
   "execution_count": 6,
   "metadata": {
    "collapsed": true
   },
   "outputs": [],
   "source": [
    "# Initialize so I can restart task bellow\n",
    "agg = {}\n",
    "for model, model_files in models_files.iteritems():\n",
    "    agg[model]={}\n"
   ]
  },
  {
   "cell_type": "code",
   "execution_count": 7,
   "metadata": {
    "collapsed": false
   },
   "outputs": [
    {
     "name": "stdout",
     "output_type": "stream",
     "text": [
      "Working on rips for giss_p2\n",
      "\tENSEMBLE: r1i1p2 out of 6\n",
      "\t\tAggregated in 4 second\n",
      "\tENSEMBLE: r2i1p2 out of 6\n",
      "\t\tAggregated in 3 second\n",
      "\tENSEMBLE: r4i1p2 out of 6\n",
      "\t\tAggregated in 3 second\n",
      "\tENSEMBLE: r5i1p2 out of 6\n",
      "\t\tAggregated in 3 second\n",
      "\tENSEMBLE: r6i1p2 out of 6\n",
      "\t\tAggregated in 5 second\n",
      "\tENSEMBLE: r3i1p2 out of 6\n",
      "\t\tAggregated in 3 second\n",
      "Working on rips for giss_p1\n",
      "\tENSEMBLE: r2i1p1 out of 6\n",
      "\t\tAggregated in 4 second\n",
      "\tENSEMBLE: r1i1p1 out of 6\n",
      "\t\tAggregated in 3 second\n",
      "\tENSEMBLE: r4i1p1 out of 6\n",
      "\t\tAggregated in 3 second\n",
      "\tENSEMBLE: r3i1p1 out of 6\n",
      "\t\tAggregated in 3 second\n",
      "\tENSEMBLE: r6i1p1 out of 6\n",
      "\t\tAggregated in 4 second\n",
      "\tENSEMBLE: r5i1p1 out of 6\n",
      "\t\tAggregated in 3 second\n",
      "{'giss_p2': {'r1i1p2': u'http://thredds:8080/thredds/dodsC/test/cdecdb47-d251-4df3-8f5b-692581ae619d.nc', 'r2i1p2': u'http://thredds:8080/thredds/dodsC/test/57243070-8838-4632-9555-edaf8b471a18.nc', 'r4i1p2': u'http://thredds:8080/thredds/dodsC/test/27e899e6-14de-4828-a1ab-aa3312840f15.nc', 'r5i1p2': u'http://thredds:8080/thredds/dodsC/test/a686037b-cdec-466d-a156-8484103ddd8c.nc', 'r6i1p2': u'http://thredds:8080/thredds/dodsC/test/a24728a3-65ed-423b-b885-01dca21de003.nc', 'r3i1p2': u'http://thredds:8080/thredds/dodsC/test/7a09606e-d18d-41e8-ad48-a3e000021614.nc'}, 'giss_p1': {'r2i1p1': u'http://thredds:8080/thredds/dodsC/test/b911fde9-989a-4243-becd-71edad6ba136.nc', 'r1i1p1': u'http://thredds:8080/thredds/dodsC/test/98087992-5970-4b3d-8d62-d29ecc2d39e1.nc', 'r4i1p1': u'http://thredds:8080/thredds/dodsC/test/393a217a-c59e-43bb-960f-927af366397c.nc', 'r3i1p1': u'http://thredds:8080/thredds/dodsC/test/cf48d22a-4db2-4bcc-b721-dbd082f3483b.nc', 'r6i1p1': u'http://thredds:8080/thredds/dodsC/test/8887569a-f72d-4782-b060-fef6d41765a5.nc', 'r5i1p1': u'http://thredds:8080/thredds/dodsC/test/4df5f3ee-fb51-4632-a48d-a8c9fcc67594.nc'}}\n",
      "Total Execution time: 46\n"
     ]
    }
   ],
   "source": [
    "# Loop through models files and create aggregated one\n",
    "# On the domain we want.\n",
    "dothis = True\n",
    "if dothis:\n",
    "    import time\n",
    "    start = time.time()\n",
    "    for model, model_files in models_files.iteritems():\n",
    "        print \"Working on rips for %s\" % model\n",
    "        for ens,files in model_files.iteritems():\n",
    "            if len(files)==0:\n",
    "                continue\n",
    "            if agg[model].has_key(ens): # In case we partially executed this already\n",
    "                print \"\\tEnsemble %s already here\" % ens\n",
    "                continue\n",
    "            st =time.time()\n",
    "            print \"\\tENSEMBLE:\",ens, \"out of %i\" % len(model_files)\n",
    "            process = aggregate(sorted(files)[::-1],domain)\n",
    "            end = time.time()\n",
    "            print \"\\t\\tAggregated in %i second\" % (int(end-st))\n",
    "            agg[model][ens]=process.output.uri.replace(\"0.0.0.0\",\"thredds\")\n",
    "    print agg\n",
    "    print \"Total Execution time: %i\" % int(end-start)"
   ]
  },
  {
   "cell_type": "code",
   "execution_count": 8,
   "metadata": {
    "collapsed": false
   },
   "outputs": [
    {
     "name": "stdout",
     "output_type": "stream",
     "text": [
      "Model giss_p2\n",
      "\tEnsemble: r1i1p2\n",
      "\t\t(120, 13, 24)\n",
      "\tEnsemble: r2i1p2\n",
      "\t\t(120, 13, 24)\n",
      "\tEnsemble: r4i1p2\n",
      "\t\t(120, 13, 24)\n",
      "\tEnsemble: r5i1p2\n",
      "\t\t(120, 13, 24)\n",
      "\tEnsemble: r6i1p2\n",
      "\t\t(120, 13, 24)\n",
      "\tEnsemble: r3i1p2\n",
      "\t\t(120, 13, 24)\n",
      "Model giss_p1\n",
      "\tEnsemble: r2i1p1\n",
      "\t\t(120, 13, 24)\n",
      "\tEnsemble: r1i1p1\n",
      "\t\t(120, 13, 24)\n",
      "\tEnsemble: r4i1p1\n",
      "\t\t(120, 13, 24)\n",
      "\tEnsemble: r3i1p1\n",
      "\t\t(120, 13, 24)\n",
      "\tEnsemble: r6i1p1\n",
      "\t\t(120, 13, 24)\n",
      "\tEnsemble: r5i1p1\n",
      "\t\t(120, 13, 24)\n"
     ]
    }
   ],
   "source": [
    "# Checking output\n",
    "import cdms2\n",
    "for model,ensembles in agg.iteritems():\n",
    "    print \"Model\",model\n",
    "    for ens, aggregate in ensembles.iteritems():\n",
    "        print \"\\tEnsemble:\",ens\n",
    "        f=cdms2.open(agg[model][ens].replace(\"thredds:\",\"0.0.0.0:\")) # Needs this locally\n",
    "        v=f[\"tas\"]\n",
    "        print \"\\t\\t\",v.shape\n",
    "        f.close()"
   ]
  },
  {
   "cell_type": "code",
   "execution_count": 10,
   "metadata": {
    "collapsed": false
   },
   "outputs": [
    {
     "name": "stdout",
     "output_type": "stream",
     "text": [
      "giss_p2\n",
      "\tr1i1p2\n",
      "\tr2i1p2\n",
      "\tr4i1p2\n",
      "\tr5i1p2\n",
      "\tr6i1p2\n",
      "\tr3i1p2\n",
      "giss_p1\n",
      "\tr2i1p1\n",
      "\tr1i1p1\n",
      "\tr4i1p1\n",
      "\tr3i1p1\n",
      "\tr6i1p1\n",
      "\tr5i1p1\n",
      "Averages: [u'http://0.0.0.0:8080/thredds/dodsC/test/bfee73cd-660e-447e-921d-34f5e800d625.nc', u'http://0.0.0.0:8080/thredds/dodsC/test/858df290-3f0b-4df6-a0f8-8b364d3245a8.nc']\n"
     ]
    }
   ],
   "source": [
    "# Now compute the ensemble average of each model\n",
    "ensemble_averages = []\n",
    "for model, ensembles in agg.iteritems():\n",
    "    print model\n",
    "    vars = []\n",
    "    ensemble_process = wps.get_process('cdat.ensemble')\n",
    "    for ensemble, agg_file in ensembles.iteritems():\n",
    "        print \"\\t\",ensemble\n",
    "        vars.append(Variable(agg_file,\"tas\"))\n",
    "    ensemble_process.execute(inputs=vars)\n",
    "    ensemble_averages.append(ensemble_process.output.uri)\n",
    "print \"Averages:\",ensemble_averages"
   ]
  },
  {
   "cell_type": "code",
   "execution_count": 11,
   "metadata": {
    "collapsed": false
   },
   "outputs": [
    {
     "name": "stdout",
     "output_type": "stream",
     "text": [
      "http://0.0.0.0:8080/thredds/dodsC/test/bfee73cd-660e-447e-921d-34f5e800d625.nc\n",
      "(120, 13, 24)\n",
      "http://0.0.0.0:8080/thredds/dodsC/test/858df290-3f0b-4df6-a0f8-8b364d3245a8.nc\n",
      "(120, 13, 24)\n"
     ]
    }
   ],
   "source": [
    "# Checking\n",
    "for fnm in ensemble_averages:\n",
    "    print fnm.replace(\"thredds:\",\"0.0.0.0:\")\n",
    "    f=cdms2.open(fnm.replace(\"thredds:\",\"0.0.0.0:\"))\n",
    "    V=f[\"tas\"]\n",
    "    print V.shape\n",
    "    f.close()"
   ]
  },
  {
   "cell_type": "code",
   "execution_count": 12,
   "metadata": {
    "collapsed": false
   },
   "outputs": [],
   "source": [
    "# Multi model ensemble average\n",
    "target=Gridder(tool=\"regrid2\",grid=\"T21\")\n",
    "#target = Gridder(\"regrid2\",\"linear\",Variable(\"http://acdisc.sci.gsfc.nasa.gov:80/opendap/ncml/Aqua_AIRS_Level3/AIRS3ST8.006/2002/AIRS.2002.09.01.L3.RetStd_IR008.v6.0.9.0.G13214173707.hdf.ncml\",\"TotCldLiqH2O_MW_D_ct\"))\n",
    "# convert results to wps ingestable\n",
    "input_variables = []\n",
    "for e in ensemble_averages:\n",
    "    input_variables.append(Variable(e.replace(\"0.0.0.0\",\"thredds\"),\"tas\"))\n",
    "multi = Operation(\"cdat.ensemble\",inputs=input_variables,gridder=target)\n",
    "wps.execute_op(multi)\n",
    "out = multi.output.uri"
   ]
  },
  {
   "cell_type": "code",
   "execution_count": 13,
   "metadata": {
    "collapsed": false
   },
   "outputs": [
    {
     "name": "stdout",
     "output_type": "stream",
     "text": [
      "name=07c0384f-0f29-426a-81d5-3f10e7506a9d uri=http://0.0.0.0:8080/thredds/dodsC/test/82a4a9a9-3d1f-4377-8f44-d27ddc639b98.nc var_name=tas domains=None mime_type=None\n"
     ]
    }
   ],
   "source": [
    "print multi.output"
   ]
  },
  {
   "cell_type": "code",
   "execution_count": 14,
   "metadata": {
    "collapsed": false
   },
   "outputs": [
    {
     "name": "stdout",
     "output_type": "stream",
     "text": [
      "http://0.0.0.0:8080/thredds/dodsC/test/82a4a9a9-3d1f-4377-8f44-d27ddc639b98.nc\n"
     ]
    }
   ],
   "source": [
    "print multi.output.uri\n"
   ]
  },
  {
   "cell_type": "code",
   "execution_count": 15,
   "metadata": {
    "collapsed": false
   },
   "outputs": [
    {
     "name": "stdout",
     "output_type": "stream",
     "text": [
      "(120, 32, 64)\n"
     ]
    }
   ],
   "source": [
    "f=cdms2.open(multi.output.uri)\n",
    "s=f(multi.output.var_name)\n",
    "print s.shape"
   ]
  },
  {
   "cell_type": "code",
   "execution_count": 16,
   "metadata": {
    "collapsed": false
   },
   "outputs": [
    {
     "name": "stderr",
     "output_type": "stream",
     "text": [
      "/Users/doutriaux1/anaconda2/envs/v2.8/lib/python2.7/site-packages/numpy/ma/core.py:3337: MaskedArrayFutureWarning: setting an item on a masked array which has a shared mask will not copy the mask and also change the original mask array in the future.\n",
      "Check the NumPy 1.11 release notes for more information.\n",
      "  self.__setitem__(slice(i, j), value)\n"
     ]
    },
    {
     "data": {
      "image/png": "[encoded data removed]",
      "text/plain": [
       "<vcs.displayplot.Dp at 0x118e03280>"
      ]
     },
     "execution_count": 16,
     "metadata": {},
     "output_type": "execute_result"
    }
   ],
   "source": [
    "import vcs\n",
    "x=vcs.init(bg=True)\n",
    "x.plot(s)"
   ]
  },
  {
   "cell_type": "code",
   "execution_count": null,
   "metadata": {
    "collapsed": false
   },
   "outputs": [],
   "source": [
    "print target"
   ]
  },
  {
   "cell_type": "code",
   "execution_count": null,
   "metadata": {
    "collapsed": true
   },
   "outputs": [],
   "source": [
    "Gridder??"
   ]
  },
  {
   "cell_type": "code",
   "execution_count": null,
   "metadata": {
    "collapsed": true
   },
   "outputs": [],
   "source": []
  }
 ],
 "metadata": {
  "kernelspec": {
   "display_name": "Python 2",
   "language": "python",
   "name": "python2"
  },
  "language_info": {
   "codemirror_mode": {
    "name": "ipython",
    "version": 2
   },
   "file_extension": ".py",
   "mimetype": "text/x-python",
   "name": "python",
   "nbconvert_exporter": "python",
   "pygments_lexer": "ipython2",
   "version": "2.7.12"
  }
 },
 "nbformat": 4,
 "nbformat_minor": 1
}
