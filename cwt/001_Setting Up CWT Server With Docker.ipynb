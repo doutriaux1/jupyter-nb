{
 "cells": [
  {
   "cell_type": "markdown",
   "metadata": {},
   "source": [
    "# Setting Up ESGF-CWT Server With Your Data\n",
    "\n",
    "\n",
    "## Pre-requisites: \n",
    "* [Docker](https://docs.docker.com/)\n",
    "\n",
    "## Clone the repo\n",
    "\n",
    "```\n",
    "git clone git://github.com/ESGF/esgf-compute-wps\n",
    "cd esgf-compute-wps/docker/ophidia\n",
    "```\n",
    "\n",
    "## Edit the docker compose to find your data\n",
    "Assuming you want to serve dats from ${HOME}/MyData to /ServedData on the server\n",
    "\n",
    "edit: `docker-compose.yml`\n",
    "\n",
    "in the `wps:` section add these lines\n",
    "\n",
    "```\n",
    "    volumes:\n",
    "      - /Users/doutriaux1/MyData:/ServedData\n",
    "```\n",
    "\n",
    "## Bring up the server\n",
    "\n",
    "```\n",
    "docker-compose up -d\n",
    "```\n"
   ]
  },
  {
   "cell_type": "code",
   "execution_count": null,
   "metadata": {
    "collapsed": true
   },
   "outputs": [],
   "source": []
  }
 ],
 "metadata": {
  "kernelspec": {
   "display_name": "Python 2",
   "language": "python",
   "name": "python2"
  },
  "language_info": {
   "codemirror_mode": {
    "name": "ipython",
    "version": 2
   },
   "file_extension": ".py",
   "mimetype": "text/x-python",
   "name": "python",
   "nbconvert_exporter": "python",
   "pygments_lexer": "ipython2",
   "version": "2.7.12"
  }
 },
 "nbformat": 4,
 "nbformat_minor": 1
}
