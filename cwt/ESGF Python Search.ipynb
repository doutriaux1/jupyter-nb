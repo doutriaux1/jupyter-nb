{
 "cells": [
  {
   "cell_type": "code",
   "execution_count": 3,
   "metadata": {
    "collapsed": false
   },
   "outputs": [
    {
     "name": "stdout",
     "output_type": "stream",
     "text": [
      "We found: 30\n"
     ]
    }
   ],
   "source": [
    "# pyesgf search\n",
    "# Let's do a search, python module is at: https://github.com/stephenpascoe/esgf-pyclient\n",
    "from pyesgf.search import SearchConnection\n",
    "\n",
    "params = {\n",
    "    'project':'CMIP5',\n",
    "    'model':'CNRM-CM5',\n",
    "    'experiment':'historical',\n",
    "    'time_frequency':'mon',\n",
    "    'variable':'tas',\n",
    "}\n",
    "\n",
    "opendap = True\n",
    "\n",
    "conn = SearchConnection('http://pcmdi.llnl.gov/esg-search')\n",
    "\n",
    "ds_result = conn.new_context(replica=False).search(**params)\n",
    "\n",
    "files =[]\n",
    "for ds in ds_result:\n",
    "    for file_entry in ds.file_context().search(variable=params['variable']):\n",
    "        if opendap:\n",
    "            files.append(file_entry.opendap_url)\n",
    "        else:\n",
    "            files.append(file_entry.download_url)\n",
    "        \n",
    "print \"We found:\",len(files)"
   ]
  },
  {
   "cell_type": "code",
   "execution_count": 4,
   "metadata": {
    "collapsed": false
   },
   "outputs": [
    {
     "name": "stdout",
     "output_type": "stream",
     "text": [
      "[u'http://esg.cnrm-game-meteo.fr/thredds/dodsC/CMIP5_CNRM/output1/CNRM-CERFACS/CNRM-CM5/historical/mon/atmos/Amon/r10i1p1/v20110901/tas/tas_Amon_CNRM-CM5_historical_r10i1p1_195001-200512.nc', u'http://esg.cnrm-game-meteo.fr/thredds/dodsC/CMIP5_CNRM/output1/CNRM-CERFACS/CNRM-CM5/historical/mon/atmos/Amon/r10i1p1/v20110901/tas/tas_Amon_CNRM-CM5_historical_r10i1p1_190001-194912.nc', u'http://esg.cnrm-game-meteo.fr/thredds/dodsC/CMIP5_CNRM/output1/CNRM-CERFACS/CNRM-CM5/historical/mon/atmos/Amon/r10i1p1/v20110901/tas/tas_Amon_CNRM-CM5_historical_r10i1p1_185001-189912.nc', u'http://esg.cnrm-game-meteo.fr/thredds/dodsC/CMIP5_CNRM/output1/CNRM-CERFACS/CNRM-CM5/historical/mon/atmos/Amon/r1i1p1/v20110901/tas/tas_Amon_CNRM-CM5_historical_r1i1p1_190001-194912.nc', u'http://esg.cnrm-game-meteo.fr/thredds/dodsC/CMIP5_CNRM/output1/CNRM-CERFACS/CNRM-CM5/historical/mon/atmos/Amon/r1i1p1/v20110901/tas/tas_Amon_CNRM-CM5_historical_r1i1p1_195001-200512.nc', u'http://esg.cnrm-game-meteo.fr/thredds/dodsC/CMIP5_CNRM/output1/CNRM-CERFACS/CNRM-CM5/historical/mon/atmos/Amon/r1i1p1/v20110901/tas/tas_Amon_CNRM-CM5_historical_r1i1p1_185001-189912.nc', u'http://esg.cnrm-game-meteo.fr/thredds/dodsC/CMIP5_CNRM/output1/CNRM-CERFACS/CNRM-CM5/historical/mon/atmos/Amon/r2i1p1/v20110901/tas/tas_Amon_CNRM-CM5_historical_r2i1p1_185001-189912.nc', u'http://esg.cnrm-game-meteo.fr/thredds/dodsC/CMIP5_CNRM/output1/CNRM-CERFACS/CNRM-CM5/historical/mon/atmos/Amon/r2i1p1/v20110901/tas/tas_Amon_CNRM-CM5_historical_r2i1p1_195001-200512.nc', u'http://esg.cnrm-game-meteo.fr/thredds/dodsC/CMIP5_CNRM/output1/CNRM-CERFACS/CNRM-CM5/historical/mon/atmos/Amon/r2i1p1/v20110901/tas/tas_Amon_CNRM-CM5_historical_r2i1p1_190001-194912.nc', u'http://esg.cnrm-game-meteo.fr/thredds/dodsC/CMIP5_CNRM/output1/CNRM-CERFACS/CNRM-CM5/historical/mon/atmos/Amon/r3i1p1/v20110901/tas/tas_Amon_CNRM-CM5_historical_r3i1p1_190001-194912.nc', u'http://esg.cnrm-game-meteo.fr/thredds/dodsC/CMIP5_CNRM/output1/CNRM-CERFACS/CNRM-CM5/historical/mon/atmos/Amon/r3i1p1/v20110901/tas/tas_Amon_CNRM-CM5_historical_r3i1p1_195001-200512.nc', u'http://esg.cnrm-game-meteo.fr/thredds/dodsC/CMIP5_CNRM/output1/CNRM-CERFACS/CNRM-CM5/historical/mon/atmos/Amon/r3i1p1/v20110901/tas/tas_Amon_CNRM-CM5_historical_r3i1p1_185001-189912.nc', u'http://esg.cnrm-game-meteo.fr/thredds/dodsC/CMIP5_CNRM/output1/CNRM-CERFACS/CNRM-CM5/historical/mon/atmos/Amon/r4i1p1/v20110901/tas/tas_Amon_CNRM-CM5_historical_r4i1p1_195001-200512.nc', u'http://esg.cnrm-game-meteo.fr/thredds/dodsC/CMIP5_CNRM/output1/CNRM-CERFACS/CNRM-CM5/historical/mon/atmos/Amon/r4i1p1/v20110901/tas/tas_Amon_CNRM-CM5_historical_r4i1p1_190001-194912.nc', u'http://esg.cnrm-game-meteo.fr/thredds/dodsC/CMIP5_CNRM/output1/CNRM-CERFACS/CNRM-CM5/historical/mon/atmos/Amon/r4i1p1/v20110901/tas/tas_Amon_CNRM-CM5_historical_r4i1p1_185001-189912.nc', u'http://esg.cnrm-game-meteo.fr/thredds/dodsC/CMIP5_CNRM/output1/CNRM-CERFACS/CNRM-CM5/historical/mon/atmos/Amon/r5i1p1/v20110901/tas/tas_Amon_CNRM-CM5_historical_r5i1p1_195001-200512.nc', u'http://esg.cnrm-game-meteo.fr/thredds/dodsC/CMIP5_CNRM/output1/CNRM-CERFACS/CNRM-CM5/historical/mon/atmos/Amon/r5i1p1/v20110901/tas/tas_Amon_CNRM-CM5_historical_r5i1p1_190001-194912.nc', u'http://esg.cnrm-game-meteo.fr/thredds/dodsC/CMIP5_CNRM/output1/CNRM-CERFACS/CNRM-CM5/historical/mon/atmos/Amon/r5i1p1/v20110901/tas/tas_Amon_CNRM-CM5_historical_r5i1p1_185001-189912.nc', u'http://esg.cnrm-game-meteo.fr/thredds/dodsC/CMIP5_CNRM/output1/CNRM-CERFACS/CNRM-CM5/historical/mon/atmos/Amon/r6i1p1/v20110901/tas/tas_Amon_CNRM-CM5_historical_r6i1p1_195001-200512.nc', u'http://esg.cnrm-game-meteo.fr/thredds/dodsC/CMIP5_CNRM/output1/CNRM-CERFACS/CNRM-CM5/historical/mon/atmos/Amon/r6i1p1/v20110901/tas/tas_Amon_CNRM-CM5_historical_r6i1p1_190001-194912.nc', u'http://esg.cnrm-game-meteo.fr/thredds/dodsC/CMIP5_CNRM/output1/CNRM-CERFACS/CNRM-CM5/historical/mon/atmos/Amon/r6i1p1/v20110901/tas/tas_Amon_CNRM-CM5_historical_r6i1p1_185001-189912.nc', u'http://esg.cnrm-game-meteo.fr/thredds/dodsC/CMIP5_CNRM/output1/CNRM-CERFACS/CNRM-CM5/historical/mon/atmos/Amon/r7i1p1/v20110901/tas/tas_Amon_CNRM-CM5_historical_r7i1p1_185001-189912.nc', u'http://esg.cnrm-game-meteo.fr/thredds/dodsC/CMIP5_CNRM/output1/CNRM-CERFACS/CNRM-CM5/historical/mon/atmos/Amon/r7i1p1/v20110901/tas/tas_Amon_CNRM-CM5_historical_r7i1p1_195001-200512.nc', u'http://esg.cnrm-game-meteo.fr/thredds/dodsC/CMIP5_CNRM/output1/CNRM-CERFACS/CNRM-CM5/historical/mon/atmos/Amon/r7i1p1/v20110901/tas/tas_Amon_CNRM-CM5_historical_r7i1p1_190001-194912.nc', u'http://esg.cnrm-game-meteo.fr/thredds/dodsC/CMIP5_CNRM/output1/CNRM-CERFACS/CNRM-CM5/historical/mon/atmos/Amon/r8i1p1/v20110901/tas/tas_Amon_CNRM-CM5_historical_r8i1p1_195001-200512.nc', u'http://esg.cnrm-game-meteo.fr/thredds/dodsC/CMIP5_CNRM/output1/CNRM-CERFACS/CNRM-CM5/historical/mon/atmos/Amon/r8i1p1/v20110901/tas/tas_Amon_CNRM-CM5_historical_r8i1p1_190001-194912.nc', u'http://esg.cnrm-game-meteo.fr/thredds/dodsC/CMIP5_CNRM/output1/CNRM-CERFACS/CNRM-CM5/historical/mon/atmos/Amon/r8i1p1/v20110901/tas/tas_Amon_CNRM-CM5_historical_r8i1p1_185001-189912.nc', u'http://esg.cnrm-game-meteo.fr/thredds/dodsC/CMIP5_CNRM/output1/CNRM-CERFACS/CNRM-CM5/historical/mon/atmos/Amon/r9i1p1/v20110901/tas/tas_Amon_CNRM-CM5_historical_r9i1p1_195001-200512.nc', u'http://esg.cnrm-game-meteo.fr/thredds/dodsC/CMIP5_CNRM/output1/CNRM-CERFACS/CNRM-CM5/historical/mon/atmos/Amon/r9i1p1/v20110901/tas/tas_Amon_CNRM-CM5_historical_r9i1p1_190001-194912.nc', u'http://esg.cnrm-game-meteo.fr/thredds/dodsC/CMIP5_CNRM/output1/CNRM-CERFACS/CNRM-CM5/historical/mon/atmos/Amon/r9i1p1/v20110901/tas/tas_Amon_CNRM-CM5_historical_r9i1p1_185001-189912.nc']\n"
     ]
    }
   ],
   "source": [
    "print files"
   ]
  },
  {
   "cell_type": "code",
   "execution_count": null,
   "metadata": {
    "collapsed": true
   },
   "outputs": [],
   "source": []
  }
 ],
 "metadata": {
  "kernelspec": {
   "display_name": "Python 2",
   "language": "python",
   "name": "python2"
  },
  "language_info": {
   "codemirror_mode": {
    "name": "ipython",
    "version": 2
   },
   "file_extension": ".py",
   "mimetype": "text/x-python",
   "name": "python",
   "nbconvert_exporter": "python",
   "pygments_lexer": "ipython2",
   "version": "2.7.12"
  }
 },
 "nbformat": 4,
 "nbformat_minor": 1
}
