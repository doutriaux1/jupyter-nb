{
 "cells": [
  {
   "cell_type": "code",
   "execution_count": 14,
   "metadata": {
    "collapsed": false
   },
   "outputs": [
    {
     "name": "stdout",
     "output_type": "stream",
     "text": [
      "For r1i1p1 We found: 3 files\n",
      "For r2i1p1 We found: 3 files\n",
      "For r3i1p1 We found: 3 files\n",
      "For r4i1p1 We found: 3 files\n",
      "For r5i1p1 We found: 3 files\n",
      "For r6i1p1 We found: 4 files\n",
      "For r7i1p1 We found: 0 files\n",
      "For r8i1p1 We found: 0 files\n",
      "For r9i1p1 We found: 0 files\n",
      "For r10i1p1 We found: 0 files\n"
     ]
    }
   ],
   "source": [
    "# pyesgf search\n",
    "# Let's do a search, python module is at: https://github.com/stephenpascoe/esgf-pyclient\n",
    "from pyesgf.search import SearchConnection\n",
    "\n",
    "params = {\n",
    "    'project':'CMIP5',\n",
    "    'model':'CNRM-CM5',\n",
    "    'experiment':'historical',\n",
    "    'time_frequency':'mon',\n",
    "    'variable':'tas',\n",
    "    'ensemble':'r10i1p1'\n",
    "}\n",
    "\n",
    "def get_files(param):\n",
    "    opendap = True\n",
    "\n",
    "    conn = SearchConnection('http://pcmdi.llnl.gov/esg-search')\n",
    "\n",
    "    ds_result = conn.new_context(replica=False).search(**params)\n",
    "\n",
    "    files =[]\n",
    "    for ds in ds_result:\n",
    "        for file_entry in ds.file_context().search(variable=params['variable']):\n",
    "            if opendap:\n",
    "                files.append(file_entry.opendap_url)\n",
    "            else:\n",
    "                files.append(file_entry.download_url)\n",
    "    return files\n",
    "\n",
    "params[\"model\"]=\"GISS-E2-H\"\n",
    "files = {}\n",
    "for i in range(1,11):\n",
    "    ens = \"r%ii1p1\" % i\n",
    "    params[\"ensemble\"]=ens\n",
    "    files[ens]=get_files(params)\n",
    "    print \"For %s We found: %i files\" % (ens,len(files[ens]))"
   ]
  },
  {
   "cell_type": "code",
   "execution_count": 13,
   "metadata": {
    "collapsed": false
   },
   "outputs": [
    {
     "name": "stdout",
     "output_type": "stream",
     "text": [
      "{'r7i1p1': [], 'r2i1p1': [u'http://esgf.nccs.nasa.gov/thredds/dodsC/CMIP5/NASA/GISS/historical/E2-H_historical_r2i1p1/tas_Amon_GISS-E2-H_historical_r2i1p1_195101-200512.nc', u'http://esgf.nccs.nasa.gov/thredds/dodsC/CMIP5/NASA/GISS/historical/E2-H_historical_r2i1p1/tas_Amon_GISS-E2-H_historical_r2i1p1_190101-195012.nc', u'http://esgf.nccs.nasa.gov/thredds/dodsC/CMIP5/NASA/GISS/historical/E2-H_historical_r2i1p1/tas_Amon_GISS-E2-H_historical_r2i1p1_185001-190012.nc'], 'r1i1p1': [u'http://esgf.nccs.nasa.gov/thredds/dodsC/CMIP5/NASA/GISS/historical/E2-H_historical_r1i1p1/tas_Amon_GISS-E2-H_historical_r1i1p1_195101-200512.nc', u'http://esgf.nccs.nasa.gov/thredds/dodsC/CMIP5/NASA/GISS/historical/E2-H_historical_r1i1p1/tas_Amon_GISS-E2-H_historical_r1i1p1_185001-190012.nc', u'http://esgf.nccs.nasa.gov/thredds/dodsC/CMIP5/NASA/GISS/historical/E2-H_historical_r1i1p1/tas_Amon_GISS-E2-H_historical_r1i1p1_190101-195012.nc'], 'r4i1p1': [u'http://esgf.nccs.nasa.gov/thredds/dodsC/CMIP5/NASA/GISS/historical/E2-H_historical_r4i1p1/tas_Amon_GISS-E2-H_historical_r4i1p1_195101-200512.nc', u'http://esgf.nccs.nasa.gov/thredds/dodsC/CMIP5/NASA/GISS/historical/E2-H_historical_r4i1p1/tas_Amon_GISS-E2-H_historical_r4i1p1_190101-195012.nc', u'http://esgf.nccs.nasa.gov/thredds/dodsC/CMIP5/NASA/GISS/historical/E2-H_historical_r4i1p1/tas_Amon_GISS-E2-H_historical_r4i1p1_185001-190012.nc'], 'r3i1p1': [u'http://esgf.nccs.nasa.gov/thredds/dodsC/CMIP5/NASA/GISS/historical/E2-H_historical_r3i1p1/tas_Amon_GISS-E2-H_historical_r3i1p1_195101-200512.nc', u'http://esgf.nccs.nasa.gov/thredds/dodsC/CMIP5/NASA/GISS/historical/E2-H_historical_r3i1p1/tas_Amon_GISS-E2-H_historical_r3i1p1_190101-195012.nc', u'http://esgf.nccs.nasa.gov/thredds/dodsC/CMIP5/NASA/GISS/historical/E2-H_historical_r3i1p1/tas_Amon_GISS-E2-H_historical_r3i1p1_185001-190012.nc'], 'r6i1p1': [u'http://esgf.nccs.nasa.gov/thredds/dodsC/CMIP5/NASA/GISS/historical/E2-H_historical_r6i1p1/tas_Amon_GISS-E2-H_historical_r6i1p1_195101-200012.nc', u'http://esgf.nccs.nasa.gov/thredds/dodsC/CMIP5/NASA/GISS/historical/E2-H_historical_r6i1p1/tas_Amon_GISS-E2-H_historical_r6i1p1_190101-195012.nc', u'http://esgf.nccs.nasa.gov/thredds/dodsC/CMIP5/NASA/GISS/historical/E2-H_historical_r6i1p1/tas_Amon_GISS-E2-H_historical_r6i1p1_185001-190012.nc', u'http://esgf.nccs.nasa.gov/thredds/dodsC/CMIP5/NASA/GISS/historical/E2-H_historical_r6i1p1/tas_Amon_GISS-E2-H_historical_r6i1p1_200101-200512.nc'], 'r5i1p1': [u'http://esgf.nccs.nasa.gov/thredds/dodsC/CMIP5/NASA/GISS/historical/E2-H_historical_r5i1p1/tas_Amon_GISS-E2-H_historical_r5i1p1_195101-200512.nc', u'http://esgf.nccs.nasa.gov/thredds/dodsC/CMIP5/NASA/GISS/historical/E2-H_historical_r5i1p1/tas_Amon_GISS-E2-H_historical_r5i1p1_185001-190012.nc', u'http://esgf.nccs.nasa.gov/thredds/dodsC/CMIP5/NASA/GISS/historical/E2-H_historical_r5i1p1/tas_Amon_GISS-E2-H_historical_r5i1p1_190101-195012.nc']}\n"
     ]
    }
   ],
   "source": [
    "print files"
   ]
  },
  {
   "cell_type": "code",
   "execution_count": null,
   "metadata": {
    "collapsed": true
   },
   "outputs": [],
   "source": []
  }
 ],
 "metadata": {
  "kernelspec": {
   "display_name": "Python 2",
   "language": "python",
   "name": "python2"
  },
  "language_info": {
   "codemirror_mode": {
    "name": "ipython",
    "version": 2
   },
   "file_extension": ".py",
   "mimetype": "text/x-python",
   "name": "python",
   "nbconvert_exporter": "python",
   "pygments_lexer": "ipython2",
   "version": "2.7.12"
  }
 },
 "nbformat": 4,
 "nbformat_minor": 1
}
