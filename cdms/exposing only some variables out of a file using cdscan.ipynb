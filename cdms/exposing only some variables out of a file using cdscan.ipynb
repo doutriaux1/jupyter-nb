{
 "cells": [
  {
   "cell_type": "markdown",
   "metadata": {},
   "source": [
    "# Exposing a variable from a file using cdscan"
   ]
  },
  {
   "cell_type": "code",
   "execution_count": 1,
   "metadata": {
    "collapsed": false
   },
   "outputs": [
    {
     "name": "stdout",
     "output_type": "stream",
     "text": [
      "['clt', 'u', 'v']\n"
     ]
    }
   ],
   "source": [
    "# First let's look at a file with multiple variables in it\n",
    "import cdms2\n",
    "import cdat_info\n",
    "import os\n",
    "filename = os.path.join(cdat_info.get_sampledata_path(),\"clt.nc\")\n",
    "f = cdms2.open(filename)\n",
    "print f.listvariables()  # 3 variables\n",
    "f.close()"
   ]
  },
  {
   "cell_type": "code",
   "execution_count": 2,
   "metadata": {
    "collapsed": false
   },
   "outputs": [
    {
     "name": "stdout",
     "output_type": "stream",
     "text": [
      "Finding common directory ...\n",
      "Common directory: /Users/doutriaux1/anaconda2/envs/v2.8/share/uvcdat/sample_data/\n",
      "Scanning files ...\n",
      "/Users/doutriaux1/anaconda2/envs/v2.8/share/uvcdat/sample_data/clt.nc\n",
      "Setting reference time units to months since 1979-1-1 0\n",
      "Setting reference time units to months since 1979-1-1 0\n",
      "Setting reference time units to months since 1979-1-1 0\n",
      "new.xml written\n"
     ]
    }
   ],
   "source": [
    "# Let's construct the cdscan line\n",
    "cmd = \"cdscan -x new.xml --include clt %s\" % filename\n",
    "# We could run this command outside of the script but let's do it from within\n",
    "import cdms2.cdscan\n",
    "import shlex\n",
    "cdms2.cdscan.main(shlex.split(cmd))"
   ]
  },
  {
   "cell_type": "code",
   "execution_count": 3,
   "metadata": {
    "collapsed": false
   },
   "outputs": [
    {
     "name": "stdout",
     "output_type": "stream",
     "text": [
      "['clt']\n"
     ]
    }
   ],
   "source": [
    "# Now let's open this\n",
    "f=cdms2.open(\"new.xml\")\n",
    "print f.listvariables()  # Only clt\n",
    "f.close()"
   ]
  }
 ],
 "metadata": {
  "kernelspec": {
   "display_name": "Python 2",
   "language": "python",
   "name": "python2"
  },
  "language_info": {
   "codemirror_mode": {
    "name": "ipython",
    "version": 2
   },
   "file_extension": ".py",
   "mimetype": "text/x-python",
   "name": "python",
   "nbconvert_exporter": "python",
   "pygments_lexer": "ipython2",
   "version": "2.7.12"
  }
 },
 "nbformat": 4,
 "nbformat_minor": 1
}
